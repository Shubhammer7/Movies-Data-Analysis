{
 "cells": [
  {
   "cell_type": "code",
   "execution_count": 100,
   "id": "ac361920",
   "metadata": {},
   "outputs": [],
   "source": [
    "import pandas as pd\n",
    "import numpy as np\n",
    "import matplotlib.pyplot as plt\n",
    "import seaborn as sns \n",
    "import plotly.express as px\n",
    "from sklearn.linear_model import LinearRegression"
   ]
  },
  {
   "cell_type": "code",
   "execution_count": 127,
   "id": "23fe99bc",
   "metadata": {},
   "outputs": [],
   "source": [
    "df = pd.read_csv(\"/Users/shubhamghag/Documents/Data Science Projects/Datasets/the_movies_dataset_cleaned.csv\", index_col=\"rank\")"
   ]
  },
  {
   "cell_type": "code",
   "execution_count": 130,
   "id": "b10dfa67",
   "metadata": {},
   "outputs": [
    {
     "data": {
      "text/html": [
       "<div>\n",
       "<style scoped>\n",
       "    .dataframe tbody tr th:only-of-type {\n",
       "        vertical-align: middle;\n",
       "    }\n",
       "\n",
       "    .dataframe tbody tr th {\n",
       "        vertical-align: top;\n",
       "    }\n",
       "\n",
       "    .dataframe thead th {\n",
       "        text-align: right;\n",
       "    }\n",
       "</style>\n",
       "<table border=\"1\" class=\"dataframe\">\n",
       "  <thead>\n",
       "    <tr style=\"text-align: right;\">\n",
       "      <th></th>\n",
       "      <th>release_date</th>\n",
       "      <th>movie_title</th>\n",
       "      <th>production_budget_usd</th>\n",
       "      <th>domestic_gross_usd</th>\n",
       "      <th>worldwide_gross_usd</th>\n",
       "    </tr>\n",
       "    <tr>\n",
       "      <th>rank</th>\n",
       "      <th></th>\n",
       "      <th></th>\n",
       "      <th></th>\n",
       "      <th></th>\n",
       "      <th></th>\n",
       "    </tr>\n",
       "  </thead>\n",
       "  <tbody>\n",
       "    <tr>\n",
       "      <th>1</th>\n",
       "      <td>Dec 9, 2022</td>\n",
       "      <td>Avatar: The Way of Water</td>\n",
       "      <td>460000000.0</td>\n",
       "      <td>684075767.0</td>\n",
       "      <td>2.319592e+09</td>\n",
       "    </tr>\n",
       "    <tr>\n",
       "      <th>2</th>\n",
       "      <td>Apr 23, 2019</td>\n",
       "      <td>Avengers: Endgame</td>\n",
       "      <td>400000000.0</td>\n",
       "      <td>858373000.0</td>\n",
       "      <td>2.788912e+09</td>\n",
       "    </tr>\n",
       "    <tr>\n",
       "      <th>3</th>\n",
       "      <td>May 20, 2011</td>\n",
       "      <td>Pirates of the Caribbean: On Stranger Tides</td>\n",
       "      <td>379000000.0</td>\n",
       "      <td>241071802.0</td>\n",
       "      <td>1.045714e+09</td>\n",
       "    </tr>\n",
       "    <tr>\n",
       "      <th>4</th>\n",
       "      <td>Apr 22, 2015</td>\n",
       "      <td>Avengers: Age of Ultron</td>\n",
       "      <td>365000000.0</td>\n",
       "      <td>459005868.0</td>\n",
       "      <td>1.395317e+09</td>\n",
       "    </tr>\n",
       "    <tr>\n",
       "      <th>5</th>\n",
       "      <td>May 17, 2023</td>\n",
       "      <td>Fast X</td>\n",
       "      <td>340000000.0</td>\n",
       "      <td>145960660.0</td>\n",
       "      <td>7.145289e+08</td>\n",
       "    </tr>\n",
       "  </tbody>\n",
       "</table>\n",
       "</div>"
      ],
      "text/plain": [
       "      release_date                                  movie_title  \\\n",
       "rank                                                              \n",
       "1      Dec 9, 2022                     Avatar: The Way of Water   \n",
       "2     Apr 23, 2019                            Avengers: Endgame   \n",
       "3     May 20, 2011  Pirates of the Caribbean: On Stranger Tides   \n",
       "4     Apr 22, 2015                      Avengers: Age of Ultron   \n",
       "5     May 17, 2023                                       Fast X   \n",
       "\n",
       "      production_budget_usd  domestic_gross_usd  worldwide_gross_usd  \n",
       "rank                                                                  \n",
       "1               460000000.0         684075767.0         2.319592e+09  \n",
       "2               400000000.0         858373000.0         2.788912e+09  \n",
       "3               379000000.0         241071802.0         1.045714e+09  \n",
       "4               365000000.0         459005868.0         1.395317e+09  \n",
       "5               340000000.0         145960660.0         7.145289e+08  "
      ]
     },
     "execution_count": 130,
     "metadata": {},
     "output_type": "execute_result"
    }
   ],
   "source": [
    "df.head()"
   ]
  },
  {
   "cell_type": "code",
   "execution_count": 131,
   "id": "960b2d0e",
   "metadata": {},
   "outputs": [
    {
     "data": {
      "text/html": [
       "<div>\n",
       "<style scoped>\n",
       "    .dataframe tbody tr th:only-of-type {\n",
       "        vertical-align: middle;\n",
       "    }\n",
       "\n",
       "    .dataframe tbody tr th {\n",
       "        vertical-align: top;\n",
       "    }\n",
       "\n",
       "    .dataframe thead th {\n",
       "        text-align: right;\n",
       "    }\n",
       "</style>\n",
       "<table border=\"1\" class=\"dataframe\">\n",
       "  <thead>\n",
       "    <tr style=\"text-align: right;\">\n",
       "      <th></th>\n",
       "      <th>production_budget_usd</th>\n",
       "      <th>domestic_gross_usd</th>\n",
       "      <th>worldwide_gross_usd</th>\n",
       "    </tr>\n",
       "  </thead>\n",
       "  <tbody>\n",
       "    <tr>\n",
       "      <th>count</th>\n",
       "      <td>6.018000e+03</td>\n",
       "      <td>6.018000e+03</td>\n",
       "      <td>6.018000e+03</td>\n",
       "    </tr>\n",
       "    <tr>\n",
       "      <th>mean</th>\n",
       "      <td>3.410330e+07</td>\n",
       "      <td>4.481723e+07</td>\n",
       "      <td>9.965057e+07</td>\n",
       "    </tr>\n",
       "    <tr>\n",
       "      <th>std</th>\n",
       "      <td>4.438923e+07</td>\n",
       "      <td>7.349855e+07</td>\n",
       "      <td>1.906939e+08</td>\n",
       "    </tr>\n",
       "    <tr>\n",
       "      <th>min</th>\n",
       "      <td>1.100000e+03</td>\n",
       "      <td>0.000000e+00</td>\n",
       "      <td>1.700000e+01</td>\n",
       "    </tr>\n",
       "    <tr>\n",
       "      <th>25%</th>\n",
       "      <td>6.000000e+06</td>\n",
       "      <td>2.673812e+06</td>\n",
       "      <td>6.626766e+06</td>\n",
       "    </tr>\n",
       "    <tr>\n",
       "      <th>50%</th>\n",
       "      <td>1.850000e+07</td>\n",
       "      <td>1.907176e+07</td>\n",
       "      <td>3.235482e+07</td>\n",
       "    </tr>\n",
       "    <tr>\n",
       "      <th>75%</th>\n",
       "      <td>4.200000e+07</td>\n",
       "      <td>5.479224e+07</td>\n",
       "      <td>1.041023e+08</td>\n",
       "    </tr>\n",
       "    <tr>\n",
       "      <th>max</th>\n",
       "      <td>4.600000e+08</td>\n",
       "      <td>9.366622e+08</td>\n",
       "      <td>2.923706e+09</td>\n",
       "    </tr>\n",
       "  </tbody>\n",
       "</table>\n",
       "</div>"
      ],
      "text/plain": [
       "       production_budget_usd  domestic_gross_usd  worldwide_gross_usd\n",
       "count           6.018000e+03        6.018000e+03         6.018000e+03\n",
       "mean            3.410330e+07        4.481723e+07         9.965057e+07\n",
       "std             4.438923e+07        7.349855e+07         1.906939e+08\n",
       "min             1.100000e+03        0.000000e+00         1.700000e+01\n",
       "25%             6.000000e+06        2.673812e+06         6.626766e+06\n",
       "50%             1.850000e+07        1.907176e+07         3.235482e+07\n",
       "75%             4.200000e+07        5.479224e+07         1.041023e+08\n",
       "max             4.600000e+08        9.366622e+08         2.923706e+09"
      ]
     },
     "execution_count": 131,
     "metadata": {},
     "output_type": "execute_result"
    }
   ],
   "source": [
    "df.describe()"
   ]
  },
  {
   "cell_type": "code",
   "execution_count": 132,
   "id": "a73ad60a",
   "metadata": {},
   "outputs": [
    {
     "data": {
      "text/plain": [
       "release_date             0\n",
       "movie_title              0\n",
       "production_budget_usd    0\n",
       "domestic_gross_usd       0\n",
       "worldwide_gross_usd      0\n",
       "dtype: int64"
      ]
     },
     "execution_count": 132,
     "metadata": {},
     "output_type": "execute_result"
    }
   ],
   "source": [
    "df.isnull().sum()"
   ]
  },
  {
   "cell_type": "code",
   "execution_count": 133,
   "id": "c3101399",
   "metadata": {},
   "outputs": [
    {
     "data": {
      "text/plain": [
       "(6018, 5)"
      ]
     },
     "execution_count": 133,
     "metadata": {},
     "output_type": "execute_result"
    }
   ],
   "source": [
    "df.shape"
   ]
  },
  {
   "cell_type": "code",
   "execution_count": 134,
   "id": "37444e3b",
   "metadata": {},
   "outputs": [
    {
     "data": {
      "text/plain": [
       "Index(['release_date', 'movie_title', 'production_budget_usd',\n",
       "       'domestic_gross_usd', 'worldwide_gross_usd'],\n",
       "      dtype='object')"
      ]
     },
     "execution_count": 134,
     "metadata": {},
     "output_type": "execute_result"
    }
   ],
   "source": [
    "df.columns"
   ]
  },
  {
   "cell_type": "code",
   "execution_count": 135,
   "id": "8c96f357",
   "metadata": {
    "scrolled": false
   },
   "outputs": [
    {
     "data": {
      "text/plain": [
       "release_date              object\n",
       "movie_title               object\n",
       "production_budget_usd    float64\n",
       "domestic_gross_usd       float64\n",
       "worldwide_gross_usd      float64\n",
       "dtype: object"
      ]
     },
     "execution_count": 135,
     "metadata": {},
     "output_type": "execute_result"
    }
   ],
   "source": [
    "df.dtypes"
   ]
  },
  {
   "cell_type": "markdown",
   "id": "e721e7fc",
   "metadata": {},
   "source": [
    "### Top 50 highest grossing movies worldwide"
   ]
  },
  {
   "cell_type": "code",
   "execution_count": 159,
   "id": "85c24029",
   "metadata": {},
   "outputs": [
    {
     "data": {
      "application/vnd.plotly.v1+json": {
       "config": {
        "plotlyServerURL": "https://plot.ly"
       },
       "data": [
        {
         "hovertemplate": "movie_title=%{text}<br>production_budget_usd=%{x}<br>worldwide_gross_usd=%{y}<extra></extra>",
         "legendgroup": "Avatar: The Way of Water",
         "marker": {
          "color": "rgb(228,26,28)",
          "line": {
           "color": "Black",
           "width": 2
          },
          "size": 10,
          "symbol": "circle"
         },
         "mode": "markers+text",
         "name": "Avatar: The Way of Water",
         "orientation": "v",
         "showlegend": true,
         "text": [
          "Avatar: The Way of Water"
         ],
         "textposition": "bottom center",
         "type": "scatter",
         "x": [
          460000000
         ],
         "xaxis": "x",
         "y": [
          2319591720
         ],
         "yaxis": "y"
        },
        {
         "hovertemplate": "movie_title=%{text}<br>production_budget_usd=%{x}<br>worldwide_gross_usd=%{y}<extra></extra>",
         "legendgroup": "Avengers: Endgame",
         "marker": {
          "color": "rgb(55,126,184)",
          "line": {
           "color": "Black",
           "width": 2
          },
          "size": 10,
          "symbol": "circle"
         },
         "mode": "markers+text",
         "name": "Avengers: Endgame",
         "orientation": "v",
         "showlegend": true,
         "text": [
          "Avengers: Endgame"
         ],
         "textposition": "bottom center",
         "type": "scatter",
         "x": [
          400000000
         ],
         "xaxis": "x",
         "y": [
          2788912285
         ],
         "yaxis": "y"
        },
        {
         "hovertemplate": "movie_title=%{text}<br>production_budget_usd=%{x}<br>worldwide_gross_usd=%{y}<extra></extra>",
         "legendgroup": "Pirates of the Caribbean: On Stranger Tides",
         "marker": {
          "color": "rgb(77,175,74)",
          "line": {
           "color": "Black",
           "width": 2
          },
          "size": 10,
          "symbol": "circle"
         },
         "mode": "markers+text",
         "name": "Pirates of the Caribbean: On Stranger Tides",
         "orientation": "v",
         "showlegend": true,
         "text": [
          "Pirates of the Caribbean: On Stranger Tides"
         ],
         "textposition": "bottom center",
         "type": "scatter",
         "x": [
          379000000
         ],
         "xaxis": "x",
         "y": [
          1045713802
         ],
         "yaxis": "y"
        },
        {
         "hovertemplate": "movie_title=%{text}<br>production_budget_usd=%{x}<br>worldwide_gross_usd=%{y}<extra></extra>",
         "legendgroup": "Avengers: Age of Ultron",
         "marker": {
          "color": "rgb(152,78,163)",
          "line": {
           "color": "Black",
           "width": 2
          },
          "size": 10,
          "symbol": "circle"
         },
         "mode": "markers+text",
         "name": "Avengers: Age of Ultron",
         "orientation": "v",
         "showlegend": true,
         "text": [
          "Avengers: Age of Ultron"
         ],
         "textposition": "bottom center",
         "type": "scatter",
         "x": [
          365000000
         ],
         "xaxis": "x",
         "y": [
          1395316979
         ],
         "yaxis": "y"
        },
        {
         "hovertemplate": "movie_title=%{text}<br>production_budget_usd=%{x}<br>worldwide_gross_usd=%{y}<extra></extra>",
         "legendgroup": "Fast X",
         "marker": {
          "color": "rgb(255,127,0)",
          "line": {
           "color": "Black",
           "width": 2
          },
          "size": 10,
          "symbol": "circle"
         },
         "mode": "markers+text",
         "name": "Fast X",
         "orientation": "v",
         "showlegend": true,
         "text": [
          "Fast X"
         ],
         "textposition": "bottom center",
         "type": "scatter",
         "x": [
          340000000
         ],
         "xaxis": "x",
         "y": [
          714528860
         ],
         "yaxis": "y"
        },
        {
         "hovertemplate": "movie_title=%{text}<br>production_budget_usd=%{x}<br>worldwide_gross_usd=%{y}<extra></extra>",
         "legendgroup": "Star Wars Ep. VII: The Force Awakens",
         "marker": {
          "color": "rgb(255,255,51)",
          "line": {
           "color": "Black",
           "width": 2
          },
          "size": 10,
          "symbol": "circle"
         },
         "mode": "markers+text",
         "name": "Star Wars Ep. VII: The Force Awakens",
         "orientation": "v",
         "showlegend": true,
         "text": [
          "Star Wars Ep. VII: The Force Awakens"
         ],
         "textposition": "bottom center",
         "type": "scatter",
         "x": [
          306000000
         ],
         "xaxis": "x",
         "y": [
          2064615817
         ],
         "yaxis": "y"
        },
        {
         "hovertemplate": "movie_title=%{text}<br>production_budget_usd=%{x}<br>worldwide_gross_usd=%{y}<extra></extra>",
         "legendgroup": "Avengers: Infinity War",
         "marker": {
          "color": "rgb(166,86,40)",
          "line": {
           "color": "Black",
           "width": 2
          },
          "size": 10,
          "symbol": "circle"
         },
         "mode": "markers+text",
         "name": "Avengers: Infinity War",
         "orientation": "v",
         "showlegend": true,
         "text": [
          "Avengers: Infinity War"
         ],
         "textposition": "bottom center",
         "type": "scatter",
         "x": [
          300000000
         ],
         "xaxis": "x",
         "y": [
          2048359754
         ],
         "yaxis": "y"
        },
        {
         "hovertemplate": "movie_title=%{text}<br>production_budget_usd=%{x}<br>worldwide_gross_usd=%{y}<extra></extra>",
         "legendgroup": "Pirates of the Caribbean: At World’s End",
         "marker": {
          "color": "rgb(247,129,191)",
          "line": {
           "color": "Black",
           "width": 2
          },
          "size": 10,
          "symbol": "circle"
         },
         "mode": "markers+text",
         "name": "Pirates of the Caribbean: At World’s End",
         "orientation": "v",
         "showlegend": true,
         "text": [
          "Pirates of the Caribbean: At World’s End"
         ],
         "textposition": "bottom center",
         "type": "scatter",
         "x": [
          300000000
         ],
         "xaxis": "x",
         "y": [
          960996492
         ],
         "yaxis": "y"
        },
        {
         "hovertemplate": "movie_title=%{text}<br>production_budget_usd=%{x}<br>worldwide_gross_usd=%{y}<extra></extra>",
         "legendgroup": "Justice League",
         "marker": {
          "color": "rgb(153,153,153)",
          "line": {
           "color": "Black",
           "width": 2
          },
          "size": 10,
          "symbol": "circle"
         },
         "mode": "markers+text",
         "name": "Justice League",
         "orientation": "v",
         "showlegend": true,
         "text": [
          "Justice League"
         ],
         "textposition": "bottom center",
         "type": "scatter",
         "x": [
          300000000
         ],
         "xaxis": "x",
         "y": [
          655945209
         ],
         "yaxis": "y"
        },
        {
         "hovertemplate": "movie_title=%{text}<br>production_budget_usd=%{x}<br>worldwide_gross_usd=%{y}<extra></extra>",
         "legendgroup": "Spectre",
         "marker": {
          "color": "rgb(228,26,28)",
          "line": {
           "color": "Black",
           "width": 2
          },
          "size": 10,
          "symbol": "circle"
         },
         "mode": "markers+text",
         "name": "Spectre",
         "orientation": "v",
         "showlegend": true,
         "text": [
          "Spectre"
         ],
         "textposition": "bottom center",
         "type": "scatter",
         "x": [
          300000000
         ],
         "xaxis": "x",
         "y": [
          879077344
         ],
         "yaxis": "y"
        },
        {
         "hovertemplate": "movie_title=%{text}<br>production_budget_usd=%{x}<br>worldwide_gross_usd=%{y}<extra></extra>",
         "legendgroup": "Indiana Jones and the Dial of Destiny",
         "marker": {
          "color": "rgb(55,126,184)",
          "line": {
           "color": "Black",
           "width": 2
          },
          "size": 10,
          "symbol": "circle"
         },
         "mode": "markers+text",
         "name": "Indiana Jones and the Dial of Destiny",
         "orientation": "v",
         "showlegend": true,
         "text": [
          "Indiana Jones and the Dial of Destiny"
         ],
         "textposition": "bottom center",
         "type": "scatter",
         "x": [
          300000000
         ],
         "xaxis": "x",
         "y": [
          381465590
         ],
         "yaxis": "y"
        },
        {
         "hovertemplate": "movie_title=%{text}<br>production_budget_usd=%{x}<br>worldwide_gross_usd=%{y}<extra></extra>",
         "legendgroup": "Mission: Impossible Dead Reckoning Part One",
         "marker": {
          "color": "rgb(77,175,74)",
          "line": {
           "color": "Black",
           "width": 2
          },
          "size": 10,
          "symbol": "circle"
         },
         "mode": "markers+text",
         "name": "Mission: Impossible Dead Reckoning Part One",
         "orientation": "v",
         "showlegend": true,
         "text": [
          "Mission: Impossible Dead Reckoning Part One"
         ],
         "textposition": "bottom center",
         "type": "scatter",
         "x": [
          290000000
         ],
         "xaxis": "x",
         "y": [
          567528030
         ],
         "yaxis": "y"
        },
        {
         "hovertemplate": "movie_title=%{text}<br>production_budget_usd=%{x}<br>worldwide_gross_usd=%{y}<extra></extra>",
         "legendgroup": "Star Wars: The Rise of Skywalker",
         "marker": {
          "color": "rgb(152,78,163)",
          "line": {
           "color": "Black",
           "width": 2
          },
          "size": 10,
          "symbol": "circle"
         },
         "mode": "markers+text",
         "name": "Star Wars: The Rise of Skywalker",
         "orientation": "v",
         "showlegend": true,
         "text": [
          "Star Wars: The Rise of Skywalker"
         ],
         "textposition": "bottom center",
         "type": "scatter",
         "x": [
          275000000
         ],
         "xaxis": "x",
         "y": [
          1072767997
         ],
         "yaxis": "y"
        },
        {
         "hovertemplate": "movie_title=%{text}<br>production_budget_usd=%{x}<br>worldwide_gross_usd=%{y}<extra></extra>",
         "legendgroup": "Solo: A Star Wars Story",
         "marker": {
          "color": "rgb(255,127,0)",
          "line": {
           "color": "Black",
           "width": 2
          },
          "size": 10,
          "symbol": "circle"
         },
         "mode": "markers+text",
         "name": "Solo: A Star Wars Story",
         "orientation": "v",
         "showlegend": true,
         "text": [
          "Solo: A Star Wars Story"
         ],
         "textposition": "bottom center",
         "type": "scatter",
         "x": [
          275000000
         ],
         "xaxis": "x",
         "y": [
          393151347
         ],
         "yaxis": "y"
        },
        {
         "hovertemplate": "movie_title=%{text}<br>production_budget_usd=%{x}<br>worldwide_gross_usd=%{y}<extra></extra>",
         "legendgroup": "John Carter",
         "marker": {
          "color": "rgb(255,255,51)",
          "line": {
           "color": "Black",
           "width": 2
          },
          "size": 10,
          "symbol": "circle"
         },
         "mode": "markers+text",
         "name": "John Carter",
         "orientation": "v",
         "showlegend": true,
         "text": [
          "John Carter"
         ],
         "textposition": "bottom center",
         "type": "scatter",
         "x": [
          263700000
         ],
         "xaxis": "x",
         "y": [
          282778100
         ],
         "yaxis": "y"
        },
        {
         "hovertemplate": "movie_title=%{text}<br>production_budget_usd=%{x}<br>worldwide_gross_usd=%{y}<extra></extra>",
         "legendgroup": "Batman v Superman: Dawn of Justice",
         "marker": {
          "color": "rgb(166,86,40)",
          "line": {
           "color": "Black",
           "width": 2
          },
          "size": 10,
          "symbol": "circle"
         },
         "mode": "markers+text",
         "name": "Batman v Superman: Dawn of Justice",
         "orientation": "v",
         "showlegend": true,
         "text": [
          "Batman v Superman: Dawn of Justice"
         ],
         "textposition": "bottom center",
         "type": "scatter",
         "x": [
          263000000
         ],
         "xaxis": "x",
         "y": [
          872395091
         ],
         "yaxis": "y"
        },
        {
         "hovertemplate": "movie_title=%{text}<br>production_budget_usd=%{x}<br>worldwide_gross_usd=%{y}<extra></extra>",
         "legendgroup": "Star Wars Ep. VIII: The Last Jedi",
         "marker": {
          "color": "rgb(247,129,191)",
          "line": {
           "color": "Black",
           "width": 2
          },
          "size": 10,
          "symbol": "circle"
         },
         "mode": "markers+text",
         "name": "Star Wars Ep. VIII: The Last Jedi",
         "orientation": "v",
         "showlegend": true,
         "text": [
          "Star Wars Ep. VIII: The Last Jedi"
         ],
         "textposition": "bottom center",
         "type": "scatter",
         "x": [
          262000000
         ],
         "xaxis": "x",
         "y": [
          1331635141
         ],
         "yaxis": "y"
        },
        {
         "hovertemplate": "movie_title=%{text}<br>production_budget_usd=%{x}<br>worldwide_gross_usd=%{y}<extra></extra>",
         "legendgroup": "The Lion King",
         "marker": {
          "color": "rgb(153,153,153)",
          "line": {
           "color": "Black",
           "width": 2
          },
          "size": 10,
          "symbol": "circle"
         },
         "mode": "markers+text",
         "name": "The Lion King",
         "orientation": "v",
         "showlegend": true,
         "text": [
          "The Lion King"
         ],
         "textposition": "bottom center",
         "type": "scatter",
         "x": [
          260000000
         ],
         "xaxis": "x",
         "y": [
          1646106779
         ],
         "yaxis": "y"
        },
        {
         "hovertemplate": "movie_title=%{text}<br>production_budget_usd=%{x}<br>worldwide_gross_usd=%{y}<extra></extra>",
         "legendgroup": "Tangled",
         "marker": {
          "color": "rgb(228,26,28)",
          "line": {
           "color": "Black",
           "width": 2
          },
          "size": 10,
          "symbol": "circle"
         },
         "mode": "markers+text",
         "name": "Tangled",
         "orientation": "v",
         "showlegend": true,
         "text": [
          "Tangled"
         ],
         "textposition": "bottom center",
         "type": "scatter",
         "x": [
          260000000
         ],
         "xaxis": "x",
         "y": [
          582670657
         ],
         "yaxis": "y"
        },
        {
         "hovertemplate": "movie_title=%{text}<br>production_budget_usd=%{x}<br>worldwide_gross_usd=%{y}<extra></extra>",
         "legendgroup": "Spider-Man 3",
         "marker": {
          "color": "rgb(55,126,184)",
          "line": {
           "color": "Black",
           "width": 2
          },
          "size": 10,
          "symbol": "circle"
         },
         "mode": "markers+text",
         "name": "Spider-Man 3",
         "orientation": "v",
         "showlegend": true,
         "text": [
          "Spider-Man 3"
         ],
         "textposition": "bottom center",
         "type": "scatter",
         "x": [
          258000000
         ],
         "xaxis": "x",
         "y": [
          894860230
         ],
         "yaxis": "y"
        },
        {
         "hovertemplate": "movie_title=%{text}<br>production_budget_usd=%{x}<br>worldwide_gross_usd=%{y}<extra></extra>",
         "legendgroup": "Black Panther: Wakanda Forever",
         "marker": {
          "color": "rgb(77,175,74)",
          "line": {
           "color": "Black",
           "width": 2
          },
          "size": 10,
          "symbol": "circle"
         },
         "mode": "markers+text",
         "name": "Black Panther: Wakanda Forever",
         "orientation": "v",
         "showlegend": true,
         "text": [
          "Black Panther: Wakanda Forever"
         ],
         "textposition": "bottom center",
         "type": "scatter",
         "x": [
          250000000
         ],
         "xaxis": "x",
         "y": [
          853985546
         ],
         "yaxis": "y"
        },
        {
         "hovertemplate": "movie_title=%{text}<br>production_budget_usd=%{x}<br>worldwide_gross_usd=%{y}<extra></extra>",
         "legendgroup": "Captain America: Civil War",
         "marker": {
          "color": "rgb(152,78,163)",
          "line": {
           "color": "Black",
           "width": 2
          },
          "size": 10,
          "symbol": "circle"
         },
         "mode": "markers+text",
         "name": "Captain America: Civil War",
         "orientation": "v",
         "showlegend": true,
         "text": [
          "Captain America: Civil War"
         ],
         "textposition": "bottom center",
         "type": "scatter",
         "x": [
          250000000
         ],
         "xaxis": "x",
         "y": [
          1151899586
         ],
         "yaxis": "y"
        },
        {
         "hovertemplate": "movie_title=%{text}<br>production_budget_usd=%{x}<br>worldwide_gross_usd=%{y}<extra></extra>",
         "legendgroup": "Guardians of the Galaxy Vol 3",
         "marker": {
          "color": "rgb(255,127,0)",
          "line": {
           "color": "Black",
           "width": 2
          },
          "size": 10,
          "symbol": "circle"
         },
         "mode": "markers+text",
         "name": "Guardians of the Galaxy Vol 3",
         "orientation": "v",
         "showlegend": true,
         "text": [
          "Guardians of the Galaxy Vol 3"
         ],
         "textposition": "bottom center",
         "type": "scatter",
         "x": [
          250000000
         ],
         "xaxis": "x",
         "y": [
          845468744
         ],
         "yaxis": "y"
        },
        {
         "hovertemplate": "movie_title=%{text}<br>production_budget_usd=%{x}<br>worldwide_gross_usd=%{y}<extra></extra>",
         "legendgroup": "Thor: Love and Thunder",
         "marker": {
          "color": "rgb(255,255,51)",
          "line": {
           "color": "Black",
           "width": 2
          },
          "size": 10,
          "symbol": "circle"
         },
         "mode": "markers+text",
         "name": "Thor: Love and Thunder",
         "orientation": "v",
         "showlegend": true,
         "text": [
          "Thor: Love and Thunder"
         ],
         "textposition": "bottom center",
         "type": "scatter",
         "x": [
          250000000
         ],
         "xaxis": "x",
         "y": [
          760928081
         ],
         "yaxis": "y"
        },
        {
         "hovertemplate": "movie_title=%{text}<br>production_budget_usd=%{x}<br>worldwide_gross_usd=%{y}<extra></extra>",
         "legendgroup": "Harry Potter and the Half-Blood Prince",
         "marker": {
          "color": "rgb(166,86,40)",
          "line": {
           "color": "Black",
           "width": 2
          },
          "size": 10,
          "symbol": "circle"
         },
         "mode": "markers+text",
         "name": "Harry Potter and the Half-Blood Prince",
         "orientation": "v",
         "showlegend": true,
         "text": [
          "Harry Potter and the Half-Blood Prince"
         ],
         "textposition": "bottom center",
         "type": "scatter",
         "x": [
          250000000
         ],
         "xaxis": "x",
         "y": [
          929411069
         ],
         "yaxis": "y"
        },
        {
         "hovertemplate": "movie_title=%{text}<br>production_budget_usd=%{x}<br>worldwide_gross_usd=%{y}<extra></extra>",
         "legendgroup": "The Little Mermaid",
         "marker": {
          "color": "rgb(247,129,191)",
          "line": {
           "color": "Black",
           "width": 2
          },
          "size": 10,
          "symbol": "circle"
         },
         "mode": "markers+text",
         "name": "The Little Mermaid",
         "orientation": "v",
         "showlegend": true,
         "text": [
          "The Little Mermaid"
         ],
         "textposition": "bottom center",
         "type": "scatter",
         "x": [
          250000000
         ],
         "xaxis": "x",
         "y": [
          569146430
         ],
         "yaxis": "y"
        },
        {
         "hovertemplate": "movie_title=%{text}<br>production_budget_usd=%{x}<br>worldwide_gross_usd=%{y}<extra></extra>",
         "legendgroup": "The Hobbit: The Desolation of Smaug",
         "marker": {
          "color": "rgb(153,153,153)",
          "line": {
           "color": "Black",
           "width": 2
          },
          "size": 10,
          "symbol": "circle"
         },
         "mode": "markers+text",
         "name": "The Hobbit: The Desolation of Smaug",
         "orientation": "v",
         "showlegend": true,
         "text": [
          "The Hobbit: The Desolation of Smaug"
         ],
         "textposition": "bottom center",
         "type": "scatter",
         "x": [
          250000000
         ],
         "xaxis": "x",
         "y": [
          959358436
         ],
         "yaxis": "y"
        },
        {
         "hovertemplate": "movie_title=%{text}<br>production_budget_usd=%{x}<br>worldwide_gross_usd=%{y}<extra></extra>",
         "legendgroup": "The Hobbit: The Battle of the Five Armies",
         "marker": {
          "color": "rgb(228,26,28)",
          "line": {
           "color": "Black",
           "width": 2
          },
          "size": 10,
          "symbol": "circle"
         },
         "mode": "markers+text",
         "name": "The Hobbit: The Battle of the Five Armies",
         "orientation": "v",
         "showlegend": true,
         "text": [
          "The Hobbit: The Battle of the Five Armies"
         ],
         "textposition": "bottom center",
         "type": "scatter",
         "x": [
          250000000
         ],
         "xaxis": "x",
         "y": [
          940323039
         ],
         "yaxis": "y"
        },
        {
         "hovertemplate": "movie_title=%{text}<br>production_budget_usd=%{x}<br>worldwide_gross_usd=%{y}<extra></extra>",
         "legendgroup": "The Fate of the Furious",
         "marker": {
          "color": "rgb(55,126,184)",
          "line": {
           "color": "Black",
           "width": 2
          },
          "size": 10,
          "symbol": "circle"
         },
         "mode": "markers+text",
         "name": "The Fate of the Furious",
         "orientation": "v",
         "showlegend": true,
         "text": [
          "The Fate of the Furious"
         ],
         "textposition": "bottom center",
         "type": "scatter",
         "x": [
          250000000
         ],
         "xaxis": "x",
         "y": [
          1235534014
         ],
         "yaxis": "y"
        },
        {
         "hovertemplate": "movie_title=%{text}<br>production_budget_usd=%{x}<br>worldwide_gross_usd=%{y}<extra></extra>",
         "legendgroup": "No Time to Die",
         "marker": {
          "color": "rgb(77,175,74)",
          "line": {
           "color": "Black",
           "width": 2
          },
          "size": 10,
          "symbol": "circle"
         },
         "mode": "markers+text",
         "name": "No Time to Die",
         "orientation": "v",
         "showlegend": true,
         "text": [
          "No Time to Die"
         ],
         "textposition": "bottom center",
         "type": "scatter",
         "x": [
          250000000
         ],
         "xaxis": "x",
         "y": [
          759959662
         ],
         "yaxis": "y"
        },
        {
         "hovertemplate": "movie_title=%{text}<br>production_budget_usd=%{x}<br>worldwide_gross_usd=%{y}<extra></extra>",
         "legendgroup": "Avatar",
         "marker": {
          "color": "rgb(152,78,163)",
          "line": {
           "color": "Black",
           "width": 2
          },
          "size": 10,
          "symbol": "circle"
         },
         "mode": "markers+text",
         "name": "Avatar",
         "orientation": "v",
         "showlegend": true,
         "text": [
          "Avatar"
         ],
         "textposition": "bottom center",
         "type": "scatter",
         "x": [
          237000000
         ],
         "xaxis": "x",
         "y": [
          2923706026
         ],
         "yaxis": "y"
        },
        {
         "hovertemplate": "movie_title=%{text}<br>production_budget_usd=%{x}<br>worldwide_gross_usd=%{y}<extra></extra>",
         "legendgroup": "Superman Returns",
         "marker": {
          "color": "rgb(255,127,0)",
          "line": {
           "color": "Black",
           "width": 2
          },
          "size": 10,
          "symbol": "circle"
         },
         "mode": "markers+text",
         "name": "Superman Returns",
         "orientation": "v",
         "showlegend": true,
         "text": [
          "Superman Returns"
         ],
         "textposition": "bottom center",
         "type": "scatter",
         "x": [
          232000000
         ],
         "xaxis": "x",
         "y": [
          391081192
         ],
         "yaxis": "y"
        },
        {
         "hovertemplate": "movie_title=%{text}<br>production_budget_usd=%{x}<br>worldwide_gross_usd=%{y}<extra></extra>",
         "legendgroup": "The Dark Knight Rises",
         "marker": {
          "color": "rgb(255,255,51)",
          "line": {
           "color": "Black",
           "width": 2
          },
          "size": 10,
          "symbol": "circle"
         },
         "mode": "markers+text",
         "name": "The Dark Knight Rises",
         "orientation": "v",
         "showlegend": true,
         "text": [
          "The Dark Knight Rises"
         ],
         "textposition": "bottom center",
         "type": "scatter",
         "x": [
          230000000
         ],
         "xaxis": "x",
         "y": [
          1082228107
         ],
         "yaxis": "y"
        },
        {
         "hovertemplate": "movie_title=%{text}<br>production_budget_usd=%{x}<br>worldwide_gross_usd=%{y}<extra></extra>",
         "legendgroup": "Pirates of the Caribbean: Dead Men Tell No Tales",
         "marker": {
          "color": "rgb(166,86,40)",
          "line": {
           "color": "Black",
           "width": 2
          },
          "size": 10,
          "symbol": "circle"
         },
         "mode": "markers+text",
         "name": "Pirates of the Caribbean: Dead Men Tell No Tales",
         "orientation": "v",
         "showlegend": true,
         "text": [
          "Pirates of the Caribbean: Dead Men Tell No Tales"
         ],
         "textposition": "bottom center",
         "type": "scatter",
         "x": [
          230000000
         ],
         "xaxis": "x",
         "y": [
          794861794
         ],
         "yaxis": "y"
        },
        {
         "hovertemplate": "movie_title=%{text}<br>production_budget_usd=%{x}<br>worldwide_gross_usd=%{y}<extra></extra>",
         "legendgroup": "Quantum of Solace",
         "marker": {
          "color": "rgb(247,129,191)",
          "line": {
           "color": "Black",
           "width": 2
          },
          "size": 10,
          "symbol": "circle"
         },
         "mode": "markers+text",
         "name": "Quantum of Solace",
         "orientation": "v",
         "showlegend": true,
         "text": [
          "Quantum of Solace"
         ],
         "textposition": "bottom center",
         "type": "scatter",
         "x": [
          230000000
         ],
         "xaxis": "x",
         "y": [
          591692078
         ],
         "yaxis": "y"
        },
        {
         "hovertemplate": "movie_title=%{text}<br>production_budget_usd=%{x}<br>worldwide_gross_usd=%{y}<extra></extra>",
         "legendgroup": "The Avengers",
         "marker": {
          "color": "rgb(153,153,153)",
          "line": {
           "color": "Black",
           "width": 2
          },
          "size": 10,
          "symbol": "circle"
         },
         "mode": "markers+text",
         "name": "The Avengers",
         "orientation": "v",
         "showlegend": true,
         "text": [
          "The Avengers"
         ],
         "textposition": "bottom center",
         "type": "scatter",
         "x": [
          225000000
         ],
         "xaxis": "x",
         "y": [
          1515100211
         ],
         "yaxis": "y"
        },
        {
         "hovertemplate": "movie_title=%{text}<br>production_budget_usd=%{x}<br>worldwide_gross_usd=%{y}<extra></extra>",
         "legendgroup": "Pirates of the Caribbean: Dead Man’s Chest",
         "marker": {
          "color": "rgb(228,26,28)",
          "line": {
           "color": "Black",
           "width": 2
          },
          "size": 10,
          "symbol": "circle"
         },
         "mode": "markers+text",
         "name": "Pirates of the Caribbean: Dead Man’s Chest",
         "orientation": "v",
         "showlegend": true,
         "text": [
          "Pirates of the Caribbean: Dead Man’s Chest"
         ],
         "textposition": "bottom center",
         "type": "scatter",
         "x": [
          225000000
         ],
         "xaxis": "x",
         "y": [
          1066179725
         ],
         "yaxis": "y"
        },
        {
         "hovertemplate": "movie_title=%{text}<br>production_budget_usd=%{x}<br>worldwide_gross_usd=%{y}<extra></extra>",
         "legendgroup": "Man of Steel",
         "marker": {
          "color": "rgb(55,126,184)",
          "line": {
           "color": "Black",
           "width": 2
          },
          "size": 10,
          "symbol": "circle"
         },
         "mode": "markers+text",
         "name": "Man of Steel",
         "orientation": "v",
         "showlegend": true,
         "text": [
          "Man of Steel"
         ],
         "textposition": "bottom center",
         "type": "scatter",
         "x": [
          225000000
         ],
         "xaxis": "x",
         "y": [
          667999518
         ],
         "yaxis": "y"
        },
        {
         "hovertemplate": "movie_title=%{text}<br>production_budget_usd=%{x}<br>worldwide_gross_usd=%{y}<extra></extra>",
         "legendgroup": "The Chronicles of Narnia: Prince Caspian",
         "marker": {
          "color": "rgb(77,175,74)",
          "line": {
           "color": "Black",
           "width": 2
          },
          "size": 10,
          "symbol": "circle"
         },
         "mode": "markers+text",
         "name": "The Chronicles of Narnia: Prince Caspian",
         "orientation": "v",
         "showlegend": true,
         "text": [
          "The Chronicles of Narnia: Prince Caspian"
         ],
         "textposition": "bottom center",
         "type": "scatter",
         "x": [
          225000000
         ],
         "xaxis": "x",
         "y": [
          417341288
         ],
         "yaxis": "y"
        },
        {
         "hovertemplate": "movie_title=%{text}<br>production_budget_usd=%{x}<br>worldwide_gross_usd=%{y}<extra></extra>",
         "legendgroup": "The Lone Ranger",
         "marker": {
          "color": "rgb(152,78,163)",
          "line": {
           "color": "Black",
           "width": 2
          },
          "size": 10,
          "symbol": "circle"
         },
         "mode": "markers+text",
         "name": "The Lone Ranger",
         "orientation": "v",
         "showlegend": true,
         "text": [
          "The Lone Ranger"
         ],
         "textposition": "bottom center",
         "type": "scatter",
         "x": [
          225000000
         ],
         "xaxis": "x",
         "y": [
          260002115
         ],
         "yaxis": "y"
        },
        {
         "hovertemplate": "movie_title=%{text}<br>production_budget_usd=%{x}<br>worldwide_gross_usd=%{y}<extra></extra>",
         "legendgroup": "The Amazing Spider-Man",
         "marker": {
          "color": "rgb(255,127,0)",
          "line": {
           "color": "Black",
           "width": 2
          },
          "size": 10,
          "symbol": "circle"
         },
         "mode": "markers+text",
         "name": "The Amazing Spider-Man",
         "orientation": "v",
         "showlegend": true,
         "text": [
          "The Amazing Spider-Man"
         ],
         "textposition": "bottom center",
         "type": "scatter",
         "x": [
          220000000
         ],
         "xaxis": "x",
         "y": [
          757890267
         ],
         "yaxis": "y"
        },
        {
         "hovertemplate": "movie_title=%{text}<br>production_budget_usd=%{x}<br>worldwide_gross_usd=%{y}<extra></extra>",
         "legendgroup": "Battleship",
         "marker": {
          "color": "rgb(255,255,51)",
          "line": {
           "color": "Black",
           "width": 2
          },
          "size": 10,
          "symbol": "circle"
         },
         "mode": "markers+text",
         "name": "Battleship",
         "orientation": "v",
         "showlegend": true,
         "text": [
          "Battleship"
         ],
         "textposition": "bottom center",
         "type": "scatter",
         "x": [
          220000000
         ],
         "xaxis": "x",
         "y": [
          313477717
         ],
         "yaxis": "y"
        },
        {
         "hovertemplate": "movie_title=%{text}<br>production_budget_usd=%{x}<br>worldwide_gross_usd=%{y}<extra></extra>",
         "legendgroup": "Transformers: The Last Knight",
         "marker": {
          "color": "rgb(166,86,40)",
          "line": {
           "color": "Black",
           "width": 2
          },
          "size": 10,
          "symbol": "circle"
         },
         "mode": "markers+text",
         "name": "Transformers: The Last Knight",
         "orientation": "v",
         "showlegend": true,
         "text": [
          "Transformers: The Last Knight"
         ],
         "textposition": "bottom center",
         "type": "scatter",
         "x": [
          217000000
         ],
         "xaxis": "x",
         "y": [
          602893340
         ],
         "yaxis": "y"
        },
        {
         "hovertemplate": "movie_title=%{text}<br>production_budget_usd=%{x}<br>worldwide_gross_usd=%{y}<extra></extra>",
         "legendgroup": "Jurassic World",
         "marker": {
          "color": "rgb(247,129,191)",
          "line": {
           "color": "Black",
           "width": 2
          },
          "size": 10,
          "symbol": "circle"
         },
         "mode": "markers+text",
         "name": "Jurassic World",
         "orientation": "v",
         "showlegend": true,
         "text": [
          "Jurassic World"
         ],
         "textposition": "bottom center",
         "type": "scatter",
         "x": [
          215000000
         ],
         "xaxis": "x",
         "y": [
          1669963641
         ],
         "yaxis": "y"
        },
        {
         "hovertemplate": "movie_title=%{text}<br>production_budget_usd=%{x}<br>worldwide_gross_usd=%{y}<extra></extra>",
         "legendgroup": "Men in Black 3",
         "marker": {
          "color": "rgb(153,153,153)",
          "line": {
           "color": "Black",
           "width": 2
          },
          "size": 10,
          "symbol": "circle"
         },
         "mode": "markers+text",
         "name": "Men in Black 3",
         "orientation": "v",
         "showlegend": true,
         "text": [
          "Men in Black 3"
         ],
         "textposition": "bottom center",
         "type": "scatter",
         "x": [
          215000000
         ],
         "xaxis": "x",
         "y": [
          654213485
         ],
         "yaxis": "y"
        },
        {
         "hovertemplate": "movie_title=%{text}<br>production_budget_usd=%{x}<br>worldwide_gross_usd=%{y}<extra></extra>",
         "legendgroup": "Transformers: Revenge of the Fallen",
         "marker": {
          "color": "rgb(228,26,28)",
          "line": {
           "color": "Black",
           "width": 2
          },
          "size": 10,
          "symbol": "circle"
         },
         "mode": "markers+text",
         "name": "Transformers: Revenge of the Fallen",
         "orientation": "v",
         "showlegend": true,
         "text": [
          "Transformers: Revenge of the Fallen"
         ],
         "textposition": "bottom center",
         "type": "scatter",
         "x": [
          210000000
         ],
         "xaxis": "x",
         "y": [
          836519699
         ],
         "yaxis": "y"
        },
        {
         "hovertemplate": "movie_title=%{text}<br>production_budget_usd=%{x}<br>worldwide_gross_usd=%{y}<extra></extra>",
         "legendgroup": "Transformers: Age of Extinction",
         "marker": {
          "color": "rgb(55,126,184)",
          "line": {
           "color": "Black",
           "width": 2
          },
          "size": 10,
          "symbol": "circle"
         },
         "mode": "markers+text",
         "name": "Transformers: Age of Extinction",
         "orientation": "v",
         "showlegend": true,
         "text": [
          "Transformers: Age of Extinction"
         ],
         "textposition": "bottom center",
         "type": "scatter",
         "x": [
          210000000
         ],
         "xaxis": "x",
         "y": [
          1104054072
         ],
         "yaxis": "y"
        },
        {
         "hovertemplate": "movie_title=%{text}<br>production_budget_usd=%{x}<br>worldwide_gross_usd=%{y}<extra></extra>",
         "legendgroup": "X-Men: The Last Stand",
         "marker": {
          "color": "rgb(77,175,74)",
          "line": {
           "color": "Black",
           "width": 2
          },
          "size": 10,
          "symbol": "circle"
         },
         "mode": "markers+text",
         "name": "X-Men: The Last Stand",
         "orientation": "v",
         "showlegend": true,
         "text": [
          "X-Men: The Last Stand"
         ],
         "textposition": "bottom center",
         "type": "scatter",
         "x": [
          210000000
         ],
         "xaxis": "x",
         "y": [
          459260946
         ],
         "yaxis": "y"
        },
        {
         "hovertemplate": "movie_title=%{text}<br>production_budget_usd=%{x}<br>worldwide_gross_usd=%{y}<extra></extra>",
         "legendgroup": "Robin Hood",
         "marker": {
          "color": "rgb(152,78,163)",
          "line": {
           "color": "Black",
           "width": 2
          },
          "size": 10,
          "symbol": "circle"
         },
         "mode": "markers+text",
         "name": "Robin Hood",
         "orientation": "v",
         "showlegend": true,
         "text": [
          "Robin Hood"
         ],
         "textposition": "bottom center",
         "type": "scatter",
         "x": [
          210000000
         ],
         "xaxis": "x",
         "y": [
          322459006
         ],
         "yaxis": "y"
        },
        {
         "hovertemplate": "movie_title=%{text}<br>production_budget_usd=%{x}<br>worldwide_gross_usd=%{y}<extra></extra>",
         "legendgroup": "King Kong",
         "marker": {
          "color": "rgb(255,127,0)",
          "line": {
           "color": "Black",
           "width": 2
          },
          "size": 10,
          "symbol": "circle"
         },
         "mode": "markers+text",
         "name": "King Kong",
         "orientation": "v",
         "showlegend": true,
         "text": [
          "King Kong"
         ],
         "textposition": "bottom center",
         "type": "scatter",
         "x": [
          207000000
         ],
         "xaxis": "x",
         "y": [
          550517357
         ],
         "yaxis": "y"
        }
       ],
       "layout": {
        "autosize": false,
        "font": {
         "family": "Arial",
         "size": 10
        },
        "height": 800,
        "legend": {
         "title": {
          "text": "Movie Titles"
         },
         "tracegroupgap": 0
        },
        "margin": {
         "t": 60
        },
        "showlegend": true,
        "template": {
         "data": {
          "bar": [
           {
            "error_x": {
             "color": "#2a3f5f"
            },
            "error_y": {
             "color": "#2a3f5f"
            },
            "marker": {
             "line": {
              "color": "#E5ECF6",
              "width": 0.5
             },
             "pattern": {
              "fillmode": "overlay",
              "size": 10,
              "solidity": 0.2
             }
            },
            "type": "bar"
           }
          ],
          "barpolar": [
           {
            "marker": {
             "line": {
              "color": "#E5ECF6",
              "width": 0.5
             },
             "pattern": {
              "fillmode": "overlay",
              "size": 10,
              "solidity": 0.2
             }
            },
            "type": "barpolar"
           }
          ],
          "carpet": [
           {
            "aaxis": {
             "endlinecolor": "#2a3f5f",
             "gridcolor": "white",
             "linecolor": "white",
             "minorgridcolor": "white",
             "startlinecolor": "#2a3f5f"
            },
            "baxis": {
             "endlinecolor": "#2a3f5f",
             "gridcolor": "white",
             "linecolor": "white",
             "minorgridcolor": "white",
             "startlinecolor": "#2a3f5f"
            },
            "type": "carpet"
           }
          ],
          "choropleth": [
           {
            "colorbar": {
             "outlinewidth": 0,
             "ticks": ""
            },
            "type": "choropleth"
           }
          ],
          "contour": [
           {
            "colorbar": {
             "outlinewidth": 0,
             "ticks": ""
            },
            "colorscale": [
             [
              0,
              "#0d0887"
             ],
             [
              0.1111111111111111,
              "#46039f"
             ],
             [
              0.2222222222222222,
              "#7201a8"
             ],
             [
              0.3333333333333333,
              "#9c179e"
             ],
             [
              0.4444444444444444,
              "#bd3786"
             ],
             [
              0.5555555555555556,
              "#d8576b"
             ],
             [
              0.6666666666666666,
              "#ed7953"
             ],
             [
              0.7777777777777778,
              "#fb9f3a"
             ],
             [
              0.8888888888888888,
              "#fdca26"
             ],
             [
              1,
              "#f0f921"
             ]
            ],
            "type": "contour"
           }
          ],
          "contourcarpet": [
           {
            "colorbar": {
             "outlinewidth": 0,
             "ticks": ""
            },
            "type": "contourcarpet"
           }
          ],
          "heatmap": [
           {
            "colorbar": {
             "outlinewidth": 0,
             "ticks": ""
            },
            "colorscale": [
             [
              0,
              "#0d0887"
             ],
             [
              0.1111111111111111,
              "#46039f"
             ],
             [
              0.2222222222222222,
              "#7201a8"
             ],
             [
              0.3333333333333333,
              "#9c179e"
             ],
             [
              0.4444444444444444,
              "#bd3786"
             ],
             [
              0.5555555555555556,
              "#d8576b"
             ],
             [
              0.6666666666666666,
              "#ed7953"
             ],
             [
              0.7777777777777778,
              "#fb9f3a"
             ],
             [
              0.8888888888888888,
              "#fdca26"
             ],
             [
              1,
              "#f0f921"
             ]
            ],
            "type": "heatmap"
           }
          ],
          "heatmapgl": [
           {
            "colorbar": {
             "outlinewidth": 0,
             "ticks": ""
            },
            "colorscale": [
             [
              0,
              "#0d0887"
             ],
             [
              0.1111111111111111,
              "#46039f"
             ],
             [
              0.2222222222222222,
              "#7201a8"
             ],
             [
              0.3333333333333333,
              "#9c179e"
             ],
             [
              0.4444444444444444,
              "#bd3786"
             ],
             [
              0.5555555555555556,
              "#d8576b"
             ],
             [
              0.6666666666666666,
              "#ed7953"
             ],
             [
              0.7777777777777778,
              "#fb9f3a"
             ],
             [
              0.8888888888888888,
              "#fdca26"
             ],
             [
              1,
              "#f0f921"
             ]
            ],
            "type": "heatmapgl"
           }
          ],
          "histogram": [
           {
            "marker": {
             "pattern": {
              "fillmode": "overlay",
              "size": 10,
              "solidity": 0.2
             }
            },
            "type": "histogram"
           }
          ],
          "histogram2d": [
           {
            "colorbar": {
             "outlinewidth": 0,
             "ticks": ""
            },
            "colorscale": [
             [
              0,
              "#0d0887"
             ],
             [
              0.1111111111111111,
              "#46039f"
             ],
             [
              0.2222222222222222,
              "#7201a8"
             ],
             [
              0.3333333333333333,
              "#9c179e"
             ],
             [
              0.4444444444444444,
              "#bd3786"
             ],
             [
              0.5555555555555556,
              "#d8576b"
             ],
             [
              0.6666666666666666,
              "#ed7953"
             ],
             [
              0.7777777777777778,
              "#fb9f3a"
             ],
             [
              0.8888888888888888,
              "#fdca26"
             ],
             [
              1,
              "#f0f921"
             ]
            ],
            "type": "histogram2d"
           }
          ],
          "histogram2dcontour": [
           {
            "colorbar": {
             "outlinewidth": 0,
             "ticks": ""
            },
            "colorscale": [
             [
              0,
              "#0d0887"
             ],
             [
              0.1111111111111111,
              "#46039f"
             ],
             [
              0.2222222222222222,
              "#7201a8"
             ],
             [
              0.3333333333333333,
              "#9c179e"
             ],
             [
              0.4444444444444444,
              "#bd3786"
             ],
             [
              0.5555555555555556,
              "#d8576b"
             ],
             [
              0.6666666666666666,
              "#ed7953"
             ],
             [
              0.7777777777777778,
              "#fb9f3a"
             ],
             [
              0.8888888888888888,
              "#fdca26"
             ],
             [
              1,
              "#f0f921"
             ]
            ],
            "type": "histogram2dcontour"
           }
          ],
          "mesh3d": [
           {
            "colorbar": {
             "outlinewidth": 0,
             "ticks": ""
            },
            "type": "mesh3d"
           }
          ],
          "parcoords": [
           {
            "line": {
             "colorbar": {
              "outlinewidth": 0,
              "ticks": ""
             }
            },
            "type": "parcoords"
           }
          ],
          "pie": [
           {
            "automargin": true,
            "type": "pie"
           }
          ],
          "scatter": [
           {
            "marker": {
             "colorbar": {
              "outlinewidth": 0,
              "ticks": ""
             }
            },
            "type": "scatter"
           }
          ],
          "scatter3d": [
           {
            "line": {
             "colorbar": {
              "outlinewidth": 0,
              "ticks": ""
             }
            },
            "marker": {
             "colorbar": {
              "outlinewidth": 0,
              "ticks": ""
             }
            },
            "type": "scatter3d"
           }
          ],
          "scattercarpet": [
           {
            "marker": {
             "colorbar": {
              "outlinewidth": 0,
              "ticks": ""
             }
            },
            "type": "scattercarpet"
           }
          ],
          "scattergeo": [
           {
            "marker": {
             "colorbar": {
              "outlinewidth": 0,
              "ticks": ""
             }
            },
            "type": "scattergeo"
           }
          ],
          "scattergl": [
           {
            "marker": {
             "colorbar": {
              "outlinewidth": 0,
              "ticks": ""
             }
            },
            "type": "scattergl"
           }
          ],
          "scattermapbox": [
           {
            "marker": {
             "colorbar": {
              "outlinewidth": 0,
              "ticks": ""
             }
            },
            "type": "scattermapbox"
           }
          ],
          "scatterpolar": [
           {
            "marker": {
             "colorbar": {
              "outlinewidth": 0,
              "ticks": ""
             }
            },
            "type": "scatterpolar"
           }
          ],
          "scatterpolargl": [
           {
            "marker": {
             "colorbar": {
              "outlinewidth": 0,
              "ticks": ""
             }
            },
            "type": "scatterpolargl"
           }
          ],
          "scatterternary": [
           {
            "marker": {
             "colorbar": {
              "outlinewidth": 0,
              "ticks": ""
             }
            },
            "type": "scatterternary"
           }
          ],
          "surface": [
           {
            "colorbar": {
             "outlinewidth": 0,
             "ticks": ""
            },
            "colorscale": [
             [
              0,
              "#0d0887"
             ],
             [
              0.1111111111111111,
              "#46039f"
             ],
             [
              0.2222222222222222,
              "#7201a8"
             ],
             [
              0.3333333333333333,
              "#9c179e"
             ],
             [
              0.4444444444444444,
              "#bd3786"
             ],
             [
              0.5555555555555556,
              "#d8576b"
             ],
             [
              0.6666666666666666,
              "#ed7953"
             ],
             [
              0.7777777777777778,
              "#fb9f3a"
             ],
             [
              0.8888888888888888,
              "#fdca26"
             ],
             [
              1,
              "#f0f921"
             ]
            ],
            "type": "surface"
           }
          ],
          "table": [
           {
            "cells": {
             "fill": {
              "color": "#EBF0F8"
             },
             "line": {
              "color": "white"
             }
            },
            "header": {
             "fill": {
              "color": "#C8D4E3"
             },
             "line": {
              "color": "white"
             }
            },
            "type": "table"
           }
          ]
         },
         "layout": {
          "annotationdefaults": {
           "arrowcolor": "#2a3f5f",
           "arrowhead": 0,
           "arrowwidth": 1
          },
          "autotypenumbers": "strict",
          "coloraxis": {
           "colorbar": {
            "outlinewidth": 0,
            "ticks": ""
           }
          },
          "colorscale": {
           "diverging": [
            [
             0,
             "#8e0152"
            ],
            [
             0.1,
             "#c51b7d"
            ],
            [
             0.2,
             "#de77ae"
            ],
            [
             0.3,
             "#f1b6da"
            ],
            [
             0.4,
             "#fde0ef"
            ],
            [
             0.5,
             "#f7f7f7"
            ],
            [
             0.6,
             "#e6f5d0"
            ],
            [
             0.7,
             "#b8e186"
            ],
            [
             0.8,
             "#7fbc41"
            ],
            [
             0.9,
             "#4d9221"
            ],
            [
             1,
             "#276419"
            ]
           ],
           "sequential": [
            [
             0,
             "#0d0887"
            ],
            [
             0.1111111111111111,
             "#46039f"
            ],
            [
             0.2222222222222222,
             "#7201a8"
            ],
            [
             0.3333333333333333,
             "#9c179e"
            ],
            [
             0.4444444444444444,
             "#bd3786"
            ],
            [
             0.5555555555555556,
             "#d8576b"
            ],
            [
             0.6666666666666666,
             "#ed7953"
            ],
            [
             0.7777777777777778,
             "#fb9f3a"
            ],
            [
             0.8888888888888888,
             "#fdca26"
            ],
            [
             1,
             "#f0f921"
            ]
           ],
           "sequentialminus": [
            [
             0,
             "#0d0887"
            ],
            [
             0.1111111111111111,
             "#46039f"
            ],
            [
             0.2222222222222222,
             "#7201a8"
            ],
            [
             0.3333333333333333,
             "#9c179e"
            ],
            [
             0.4444444444444444,
             "#bd3786"
            ],
            [
             0.5555555555555556,
             "#d8576b"
            ],
            [
             0.6666666666666666,
             "#ed7953"
            ],
            [
             0.7777777777777778,
             "#fb9f3a"
            ],
            [
             0.8888888888888888,
             "#fdca26"
            ],
            [
             1,
             "#f0f921"
            ]
           ]
          },
          "colorway": [
           "#636efa",
           "#EF553B",
           "#00cc96",
           "#ab63fa",
           "#FFA15A",
           "#19d3f3",
           "#FF6692",
           "#B6E880",
           "#FF97FF",
           "#FECB52"
          ],
          "font": {
           "color": "#2a3f5f"
          },
          "geo": {
           "bgcolor": "white",
           "lakecolor": "white",
           "landcolor": "#E5ECF6",
           "showlakes": true,
           "showland": true,
           "subunitcolor": "white"
          },
          "hoverlabel": {
           "align": "left"
          },
          "hovermode": "closest",
          "mapbox": {
           "style": "light"
          },
          "paper_bgcolor": "white",
          "plot_bgcolor": "#E5ECF6",
          "polar": {
           "angularaxis": {
            "gridcolor": "white",
            "linecolor": "white",
            "ticks": ""
           },
           "bgcolor": "#E5ECF6",
           "radialaxis": {
            "gridcolor": "white",
            "linecolor": "white",
            "ticks": ""
           }
          },
          "scene": {
           "xaxis": {
            "backgroundcolor": "#E5ECF6",
            "gridcolor": "white",
            "gridwidth": 2,
            "linecolor": "white",
            "showbackground": true,
            "ticks": "",
            "zerolinecolor": "white"
           },
           "yaxis": {
            "backgroundcolor": "#E5ECF6",
            "gridcolor": "white",
            "gridwidth": 2,
            "linecolor": "white",
            "showbackground": true,
            "ticks": "",
            "zerolinecolor": "white"
           },
           "zaxis": {
            "backgroundcolor": "#E5ECF6",
            "gridcolor": "white",
            "gridwidth": 2,
            "linecolor": "white",
            "showbackground": true,
            "ticks": "",
            "zerolinecolor": "white"
           }
          },
          "shapedefaults": {
           "line": {
            "color": "#2a3f5f"
           }
          },
          "ternary": {
           "aaxis": {
            "gridcolor": "white",
            "linecolor": "white",
            "ticks": ""
           },
           "baxis": {
            "gridcolor": "white",
            "linecolor": "white",
            "ticks": ""
           },
           "bgcolor": "#E5ECF6",
           "caxis": {
            "gridcolor": "white",
            "linecolor": "white",
            "ticks": ""
           }
          },
          "title": {
           "x": 0.05
          },
          "xaxis": {
           "automargin": true,
           "gridcolor": "white",
           "linecolor": "white",
           "ticks": "",
           "title": {
            "standoff": 15
           },
           "zerolinecolor": "white",
           "zerolinewidth": 2
          },
          "yaxis": {
           "automargin": true,
           "gridcolor": "white",
           "linecolor": "white",
           "ticks": "",
           "title": {
            "standoff": 15
           },
           "zerolinecolor": "white",
           "zerolinewidth": 2
          }
         }
        },
        "title": {
         "text": "Top 100 Movies by Worldwide Gross vs. Production Budget"
        },
        "width": 1000,
        "xaxis": {
         "anchor": "y",
         "domain": [
          0,
          1
         ],
         "range": [
          0,
          300000000
         ],
         "title": {
          "text": "Production Budget (in USD)"
         }
        },
        "yaxis": {
         "anchor": "x",
         "domain": [
          0,
          1
         ],
         "range": [
          0,
          3000000000
         ],
         "title": {
          "text": "Worldwide Gross (in USD)"
         }
        }
       }
      },
      "text/html": [
       "<div>                            <div id=\"94dcaca9-3021-49e0-81d5-9d8a656e48ab\" class=\"plotly-graph-div\" style=\"height:800px; width:1000px;\"></div>            <script type=\"text/javascript\">                require([\"plotly\"], function(Plotly) {                    window.PLOTLYENV=window.PLOTLYENV || {};                                    if (document.getElementById(\"94dcaca9-3021-49e0-81d5-9d8a656e48ab\")) {                    Plotly.newPlot(                        \"94dcaca9-3021-49e0-81d5-9d8a656e48ab\",                        [{\"hovertemplate\":\"movie_title=%{text}<br>production_budget_usd=%{x}<br>worldwide_gross_usd=%{y}<extra></extra>\",\"legendgroup\":\"Avatar: The Way of Water\",\"marker\":{\"color\":\"rgb(228,26,28)\",\"symbol\":\"circle\",\"line\":{\"color\":\"Black\",\"width\":2},\"size\":10},\"mode\":\"markers+text\",\"name\":\"Avatar: The Way of Water\",\"orientation\":\"v\",\"showlegend\":true,\"text\":[\"Avatar: The Way of Water\"],\"x\":[460000000.0],\"xaxis\":\"x\",\"y\":[2319591720.0],\"yaxis\":\"y\",\"type\":\"scatter\",\"textposition\":\"bottom center\"},{\"hovertemplate\":\"movie_title=%{text}<br>production_budget_usd=%{x}<br>worldwide_gross_usd=%{y}<extra></extra>\",\"legendgroup\":\"Avengers: Endgame\",\"marker\":{\"color\":\"rgb(55,126,184)\",\"symbol\":\"circle\",\"line\":{\"color\":\"Black\",\"width\":2},\"size\":10},\"mode\":\"markers+text\",\"name\":\"Avengers: Endgame\",\"orientation\":\"v\",\"showlegend\":true,\"text\":[\"Avengers: Endgame\"],\"x\":[400000000.0],\"xaxis\":\"x\",\"y\":[2788912285.0],\"yaxis\":\"y\",\"type\":\"scatter\",\"textposition\":\"bottom center\"},{\"hovertemplate\":\"movie_title=%{text}<br>production_budget_usd=%{x}<br>worldwide_gross_usd=%{y}<extra></extra>\",\"legendgroup\":\"Pirates of the Caribbean: On Stranger Tides\",\"marker\":{\"color\":\"rgb(77,175,74)\",\"symbol\":\"circle\",\"line\":{\"color\":\"Black\",\"width\":2},\"size\":10},\"mode\":\"markers+text\",\"name\":\"Pirates of the Caribbean: On Stranger Tides\",\"orientation\":\"v\",\"showlegend\":true,\"text\":[\"Pirates of the Caribbean: On Stranger Tides\"],\"x\":[379000000.0],\"xaxis\":\"x\",\"y\":[1045713802.0],\"yaxis\":\"y\",\"type\":\"scatter\",\"textposition\":\"bottom center\"},{\"hovertemplate\":\"movie_title=%{text}<br>production_budget_usd=%{x}<br>worldwide_gross_usd=%{y}<extra></extra>\",\"legendgroup\":\"Avengers: Age of Ultron\",\"marker\":{\"color\":\"rgb(152,78,163)\",\"symbol\":\"circle\",\"line\":{\"color\":\"Black\",\"width\":2},\"size\":10},\"mode\":\"markers+text\",\"name\":\"Avengers: Age of Ultron\",\"orientation\":\"v\",\"showlegend\":true,\"text\":[\"Avengers: Age of Ultron\"],\"x\":[365000000.0],\"xaxis\":\"x\",\"y\":[1395316979.0],\"yaxis\":\"y\",\"type\":\"scatter\",\"textposition\":\"bottom center\"},{\"hovertemplate\":\"movie_title=%{text}<br>production_budget_usd=%{x}<br>worldwide_gross_usd=%{y}<extra></extra>\",\"legendgroup\":\"Fast X\",\"marker\":{\"color\":\"rgb(255,127,0)\",\"symbol\":\"circle\",\"line\":{\"color\":\"Black\",\"width\":2},\"size\":10},\"mode\":\"markers+text\",\"name\":\"Fast X\",\"orientation\":\"v\",\"showlegend\":true,\"text\":[\"Fast X\"],\"x\":[340000000.0],\"xaxis\":\"x\",\"y\":[714528860.0],\"yaxis\":\"y\",\"type\":\"scatter\",\"textposition\":\"bottom center\"},{\"hovertemplate\":\"movie_title=%{text}<br>production_budget_usd=%{x}<br>worldwide_gross_usd=%{y}<extra></extra>\",\"legendgroup\":\"Star Wars Ep. VII: The Force Awakens\",\"marker\":{\"color\":\"rgb(255,255,51)\",\"symbol\":\"circle\",\"line\":{\"color\":\"Black\",\"width\":2},\"size\":10},\"mode\":\"markers+text\",\"name\":\"Star Wars Ep. VII: The Force Awakens\",\"orientation\":\"v\",\"showlegend\":true,\"text\":[\"Star Wars Ep. VII: The Force Awakens\"],\"x\":[306000000.0],\"xaxis\":\"x\",\"y\":[2064615817.0],\"yaxis\":\"y\",\"type\":\"scatter\",\"textposition\":\"bottom center\"},{\"hovertemplate\":\"movie_title=%{text}<br>production_budget_usd=%{x}<br>worldwide_gross_usd=%{y}<extra></extra>\",\"legendgroup\":\"Avengers: Infinity War\",\"marker\":{\"color\":\"rgb(166,86,40)\",\"symbol\":\"circle\",\"line\":{\"color\":\"Black\",\"width\":2},\"size\":10},\"mode\":\"markers+text\",\"name\":\"Avengers: Infinity War\",\"orientation\":\"v\",\"showlegend\":true,\"text\":[\"Avengers: Infinity War\"],\"x\":[300000000.0],\"xaxis\":\"x\",\"y\":[2048359754.0],\"yaxis\":\"y\",\"type\":\"scatter\",\"textposition\":\"bottom center\"},{\"hovertemplate\":\"movie_title=%{text}<br>production_budget_usd=%{x}<br>worldwide_gross_usd=%{y}<extra></extra>\",\"legendgroup\":\"Pirates of the Caribbean: At World\\u2019s End\",\"marker\":{\"color\":\"rgb(247,129,191)\",\"symbol\":\"circle\",\"line\":{\"color\":\"Black\",\"width\":2},\"size\":10},\"mode\":\"markers+text\",\"name\":\"Pirates of the Caribbean: At World\\u2019s End\",\"orientation\":\"v\",\"showlegend\":true,\"text\":[\"Pirates of the Caribbean: At World\\u2019s End\"],\"x\":[300000000.0],\"xaxis\":\"x\",\"y\":[960996492.0],\"yaxis\":\"y\",\"type\":\"scatter\",\"textposition\":\"bottom center\"},{\"hovertemplate\":\"movie_title=%{text}<br>production_budget_usd=%{x}<br>worldwide_gross_usd=%{y}<extra></extra>\",\"legendgroup\":\"Justice League\",\"marker\":{\"color\":\"rgb(153,153,153)\",\"symbol\":\"circle\",\"line\":{\"color\":\"Black\",\"width\":2},\"size\":10},\"mode\":\"markers+text\",\"name\":\"Justice League\",\"orientation\":\"v\",\"showlegend\":true,\"text\":[\"Justice League\"],\"x\":[300000000.0],\"xaxis\":\"x\",\"y\":[655945209.0],\"yaxis\":\"y\",\"type\":\"scatter\",\"textposition\":\"bottom center\"},{\"hovertemplate\":\"movie_title=%{text}<br>production_budget_usd=%{x}<br>worldwide_gross_usd=%{y}<extra></extra>\",\"legendgroup\":\"Spectre\",\"marker\":{\"color\":\"rgb(228,26,28)\",\"symbol\":\"circle\",\"line\":{\"color\":\"Black\",\"width\":2},\"size\":10},\"mode\":\"markers+text\",\"name\":\"Spectre\",\"orientation\":\"v\",\"showlegend\":true,\"text\":[\"Spectre\"],\"x\":[300000000.0],\"xaxis\":\"x\",\"y\":[879077344.0],\"yaxis\":\"y\",\"type\":\"scatter\",\"textposition\":\"bottom center\"},{\"hovertemplate\":\"movie_title=%{text}<br>production_budget_usd=%{x}<br>worldwide_gross_usd=%{y}<extra></extra>\",\"legendgroup\":\"Indiana Jones and the Dial of Destiny\",\"marker\":{\"color\":\"rgb(55,126,184)\",\"symbol\":\"circle\",\"line\":{\"color\":\"Black\",\"width\":2},\"size\":10},\"mode\":\"markers+text\",\"name\":\"Indiana Jones and the Dial of Destiny\",\"orientation\":\"v\",\"showlegend\":true,\"text\":[\"Indiana Jones and the Dial of Destiny\"],\"x\":[300000000.0],\"xaxis\":\"x\",\"y\":[381465590.0],\"yaxis\":\"y\",\"type\":\"scatter\",\"textposition\":\"bottom center\"},{\"hovertemplate\":\"movie_title=%{text}<br>production_budget_usd=%{x}<br>worldwide_gross_usd=%{y}<extra></extra>\",\"legendgroup\":\"Mission: Impossible Dead Reckoning Part One\",\"marker\":{\"color\":\"rgb(77,175,74)\",\"symbol\":\"circle\",\"line\":{\"color\":\"Black\",\"width\":2},\"size\":10},\"mode\":\"markers+text\",\"name\":\"Mission: Impossible Dead Reckoning Part One\",\"orientation\":\"v\",\"showlegend\":true,\"text\":[\"Mission: Impossible Dead Reckoning Part One\"],\"x\":[290000000.0],\"xaxis\":\"x\",\"y\":[567528030.0],\"yaxis\":\"y\",\"type\":\"scatter\",\"textposition\":\"bottom center\"},{\"hovertemplate\":\"movie_title=%{text}<br>production_budget_usd=%{x}<br>worldwide_gross_usd=%{y}<extra></extra>\",\"legendgroup\":\"Star Wars: The Rise of Skywalker\",\"marker\":{\"color\":\"rgb(152,78,163)\",\"symbol\":\"circle\",\"line\":{\"color\":\"Black\",\"width\":2},\"size\":10},\"mode\":\"markers+text\",\"name\":\"Star Wars: The Rise of Skywalker\",\"orientation\":\"v\",\"showlegend\":true,\"text\":[\"Star Wars: The Rise of Skywalker\"],\"x\":[275000000.0],\"xaxis\":\"x\",\"y\":[1072767997.0],\"yaxis\":\"y\",\"type\":\"scatter\",\"textposition\":\"bottom center\"},{\"hovertemplate\":\"movie_title=%{text}<br>production_budget_usd=%{x}<br>worldwide_gross_usd=%{y}<extra></extra>\",\"legendgroup\":\"Solo: A Star Wars Story\",\"marker\":{\"color\":\"rgb(255,127,0)\",\"symbol\":\"circle\",\"line\":{\"color\":\"Black\",\"width\":2},\"size\":10},\"mode\":\"markers+text\",\"name\":\"Solo: A Star Wars Story\",\"orientation\":\"v\",\"showlegend\":true,\"text\":[\"Solo: A Star Wars Story\"],\"x\":[275000000.0],\"xaxis\":\"x\",\"y\":[393151347.0],\"yaxis\":\"y\",\"type\":\"scatter\",\"textposition\":\"bottom center\"},{\"hovertemplate\":\"movie_title=%{text}<br>production_budget_usd=%{x}<br>worldwide_gross_usd=%{y}<extra></extra>\",\"legendgroup\":\"John Carter\",\"marker\":{\"color\":\"rgb(255,255,51)\",\"symbol\":\"circle\",\"line\":{\"color\":\"Black\",\"width\":2},\"size\":10},\"mode\":\"markers+text\",\"name\":\"John Carter\",\"orientation\":\"v\",\"showlegend\":true,\"text\":[\"John Carter\"],\"x\":[263700000.0],\"xaxis\":\"x\",\"y\":[282778100.0],\"yaxis\":\"y\",\"type\":\"scatter\",\"textposition\":\"bottom center\"},{\"hovertemplate\":\"movie_title=%{text}<br>production_budget_usd=%{x}<br>worldwide_gross_usd=%{y}<extra></extra>\",\"legendgroup\":\"Batman v Superman: Dawn of Justice\",\"marker\":{\"color\":\"rgb(166,86,40)\",\"symbol\":\"circle\",\"line\":{\"color\":\"Black\",\"width\":2},\"size\":10},\"mode\":\"markers+text\",\"name\":\"Batman v Superman: Dawn of Justice\",\"orientation\":\"v\",\"showlegend\":true,\"text\":[\"Batman v Superman: Dawn of Justice\"],\"x\":[263000000.0],\"xaxis\":\"x\",\"y\":[872395091.0],\"yaxis\":\"y\",\"type\":\"scatter\",\"textposition\":\"bottom center\"},{\"hovertemplate\":\"movie_title=%{text}<br>production_budget_usd=%{x}<br>worldwide_gross_usd=%{y}<extra></extra>\",\"legendgroup\":\"Star Wars Ep. VIII: The Last Jedi\",\"marker\":{\"color\":\"rgb(247,129,191)\",\"symbol\":\"circle\",\"line\":{\"color\":\"Black\",\"width\":2},\"size\":10},\"mode\":\"markers+text\",\"name\":\"Star Wars Ep. VIII: The Last Jedi\",\"orientation\":\"v\",\"showlegend\":true,\"text\":[\"Star Wars Ep. VIII: The Last Jedi\"],\"x\":[262000000.0],\"xaxis\":\"x\",\"y\":[1331635141.0],\"yaxis\":\"y\",\"type\":\"scatter\",\"textposition\":\"bottom center\"},{\"hovertemplate\":\"movie_title=%{text}<br>production_budget_usd=%{x}<br>worldwide_gross_usd=%{y}<extra></extra>\",\"legendgroup\":\"The Lion King\",\"marker\":{\"color\":\"rgb(153,153,153)\",\"symbol\":\"circle\",\"line\":{\"color\":\"Black\",\"width\":2},\"size\":10},\"mode\":\"markers+text\",\"name\":\"The Lion King\",\"orientation\":\"v\",\"showlegend\":true,\"text\":[\"The Lion King\"],\"x\":[260000000.0],\"xaxis\":\"x\",\"y\":[1646106779.0],\"yaxis\":\"y\",\"type\":\"scatter\",\"textposition\":\"bottom center\"},{\"hovertemplate\":\"movie_title=%{text}<br>production_budget_usd=%{x}<br>worldwide_gross_usd=%{y}<extra></extra>\",\"legendgroup\":\"Tangled\",\"marker\":{\"color\":\"rgb(228,26,28)\",\"symbol\":\"circle\",\"line\":{\"color\":\"Black\",\"width\":2},\"size\":10},\"mode\":\"markers+text\",\"name\":\"Tangled\",\"orientation\":\"v\",\"showlegend\":true,\"text\":[\"Tangled\"],\"x\":[260000000.0],\"xaxis\":\"x\",\"y\":[582670657.0],\"yaxis\":\"y\",\"type\":\"scatter\",\"textposition\":\"bottom center\"},{\"hovertemplate\":\"movie_title=%{text}<br>production_budget_usd=%{x}<br>worldwide_gross_usd=%{y}<extra></extra>\",\"legendgroup\":\"Spider-Man 3\",\"marker\":{\"color\":\"rgb(55,126,184)\",\"symbol\":\"circle\",\"line\":{\"color\":\"Black\",\"width\":2},\"size\":10},\"mode\":\"markers+text\",\"name\":\"Spider-Man 3\",\"orientation\":\"v\",\"showlegend\":true,\"text\":[\"Spider-Man 3\"],\"x\":[258000000.0],\"xaxis\":\"x\",\"y\":[894860230.0],\"yaxis\":\"y\",\"type\":\"scatter\",\"textposition\":\"bottom center\"},{\"hovertemplate\":\"movie_title=%{text}<br>production_budget_usd=%{x}<br>worldwide_gross_usd=%{y}<extra></extra>\",\"legendgroup\":\"Black Panther: Wakanda Forever\",\"marker\":{\"color\":\"rgb(77,175,74)\",\"symbol\":\"circle\",\"line\":{\"color\":\"Black\",\"width\":2},\"size\":10},\"mode\":\"markers+text\",\"name\":\"Black Panther: Wakanda Forever\",\"orientation\":\"v\",\"showlegend\":true,\"text\":[\"Black Panther: Wakanda Forever\"],\"x\":[250000000.0],\"xaxis\":\"x\",\"y\":[853985546.0],\"yaxis\":\"y\",\"type\":\"scatter\",\"textposition\":\"bottom center\"},{\"hovertemplate\":\"movie_title=%{text}<br>production_budget_usd=%{x}<br>worldwide_gross_usd=%{y}<extra></extra>\",\"legendgroup\":\"Captain America: Civil War\",\"marker\":{\"color\":\"rgb(152,78,163)\",\"symbol\":\"circle\",\"line\":{\"color\":\"Black\",\"width\":2},\"size\":10},\"mode\":\"markers+text\",\"name\":\"Captain America: Civil War\",\"orientation\":\"v\",\"showlegend\":true,\"text\":[\"Captain America: Civil War\"],\"x\":[250000000.0],\"xaxis\":\"x\",\"y\":[1151899586.0],\"yaxis\":\"y\",\"type\":\"scatter\",\"textposition\":\"bottom center\"},{\"hovertemplate\":\"movie_title=%{text}<br>production_budget_usd=%{x}<br>worldwide_gross_usd=%{y}<extra></extra>\",\"legendgroup\":\"Guardians of the Galaxy Vol 3\",\"marker\":{\"color\":\"rgb(255,127,0)\",\"symbol\":\"circle\",\"line\":{\"color\":\"Black\",\"width\":2},\"size\":10},\"mode\":\"markers+text\",\"name\":\"Guardians of the Galaxy Vol 3\",\"orientation\":\"v\",\"showlegend\":true,\"text\":[\"Guardians of the Galaxy Vol 3\"],\"x\":[250000000.0],\"xaxis\":\"x\",\"y\":[845468744.0],\"yaxis\":\"y\",\"type\":\"scatter\",\"textposition\":\"bottom center\"},{\"hovertemplate\":\"movie_title=%{text}<br>production_budget_usd=%{x}<br>worldwide_gross_usd=%{y}<extra></extra>\",\"legendgroup\":\"Thor: Love and Thunder\",\"marker\":{\"color\":\"rgb(255,255,51)\",\"symbol\":\"circle\",\"line\":{\"color\":\"Black\",\"width\":2},\"size\":10},\"mode\":\"markers+text\",\"name\":\"Thor: Love and Thunder\",\"orientation\":\"v\",\"showlegend\":true,\"text\":[\"Thor: Love and Thunder\"],\"x\":[250000000.0],\"xaxis\":\"x\",\"y\":[760928081.0],\"yaxis\":\"y\",\"type\":\"scatter\",\"textposition\":\"bottom center\"},{\"hovertemplate\":\"movie_title=%{text}<br>production_budget_usd=%{x}<br>worldwide_gross_usd=%{y}<extra></extra>\",\"legendgroup\":\"Harry Potter and the Half-Blood Prince\",\"marker\":{\"color\":\"rgb(166,86,40)\",\"symbol\":\"circle\",\"line\":{\"color\":\"Black\",\"width\":2},\"size\":10},\"mode\":\"markers+text\",\"name\":\"Harry Potter and the Half-Blood Prince\",\"orientation\":\"v\",\"showlegend\":true,\"text\":[\"Harry Potter and the Half-Blood Prince\"],\"x\":[250000000.0],\"xaxis\":\"x\",\"y\":[929411069.0],\"yaxis\":\"y\",\"type\":\"scatter\",\"textposition\":\"bottom center\"},{\"hovertemplate\":\"movie_title=%{text}<br>production_budget_usd=%{x}<br>worldwide_gross_usd=%{y}<extra></extra>\",\"legendgroup\":\"The Little Mermaid\",\"marker\":{\"color\":\"rgb(247,129,191)\",\"symbol\":\"circle\",\"line\":{\"color\":\"Black\",\"width\":2},\"size\":10},\"mode\":\"markers+text\",\"name\":\"The Little Mermaid\",\"orientation\":\"v\",\"showlegend\":true,\"text\":[\"The Little Mermaid\"],\"x\":[250000000.0],\"xaxis\":\"x\",\"y\":[569146430.0],\"yaxis\":\"y\",\"type\":\"scatter\",\"textposition\":\"bottom center\"},{\"hovertemplate\":\"movie_title=%{text}<br>production_budget_usd=%{x}<br>worldwide_gross_usd=%{y}<extra></extra>\",\"legendgroup\":\"The Hobbit: The Desolation of Smaug\",\"marker\":{\"color\":\"rgb(153,153,153)\",\"symbol\":\"circle\",\"line\":{\"color\":\"Black\",\"width\":2},\"size\":10},\"mode\":\"markers+text\",\"name\":\"The Hobbit: The Desolation of Smaug\",\"orientation\":\"v\",\"showlegend\":true,\"text\":[\"The Hobbit: The Desolation of Smaug\"],\"x\":[250000000.0],\"xaxis\":\"x\",\"y\":[959358436.0],\"yaxis\":\"y\",\"type\":\"scatter\",\"textposition\":\"bottom center\"},{\"hovertemplate\":\"movie_title=%{text}<br>production_budget_usd=%{x}<br>worldwide_gross_usd=%{y}<extra></extra>\",\"legendgroup\":\"The Hobbit: The Battle of the Five Armies\",\"marker\":{\"color\":\"rgb(228,26,28)\",\"symbol\":\"circle\",\"line\":{\"color\":\"Black\",\"width\":2},\"size\":10},\"mode\":\"markers+text\",\"name\":\"The Hobbit: The Battle of the Five Armies\",\"orientation\":\"v\",\"showlegend\":true,\"text\":[\"The Hobbit: The Battle of the Five Armies\"],\"x\":[250000000.0],\"xaxis\":\"x\",\"y\":[940323039.0],\"yaxis\":\"y\",\"type\":\"scatter\",\"textposition\":\"bottom center\"},{\"hovertemplate\":\"movie_title=%{text}<br>production_budget_usd=%{x}<br>worldwide_gross_usd=%{y}<extra></extra>\",\"legendgroup\":\"The Fate of the Furious\",\"marker\":{\"color\":\"rgb(55,126,184)\",\"symbol\":\"circle\",\"line\":{\"color\":\"Black\",\"width\":2},\"size\":10},\"mode\":\"markers+text\",\"name\":\"The Fate of the Furious\",\"orientation\":\"v\",\"showlegend\":true,\"text\":[\"The Fate of the Furious\"],\"x\":[250000000.0],\"xaxis\":\"x\",\"y\":[1235534014.0],\"yaxis\":\"y\",\"type\":\"scatter\",\"textposition\":\"bottom center\"},{\"hovertemplate\":\"movie_title=%{text}<br>production_budget_usd=%{x}<br>worldwide_gross_usd=%{y}<extra></extra>\",\"legendgroup\":\"No Time to Die\",\"marker\":{\"color\":\"rgb(77,175,74)\",\"symbol\":\"circle\",\"line\":{\"color\":\"Black\",\"width\":2},\"size\":10},\"mode\":\"markers+text\",\"name\":\"No Time to Die\",\"orientation\":\"v\",\"showlegend\":true,\"text\":[\"No Time to Die\"],\"x\":[250000000.0],\"xaxis\":\"x\",\"y\":[759959662.0],\"yaxis\":\"y\",\"type\":\"scatter\",\"textposition\":\"bottom center\"},{\"hovertemplate\":\"movie_title=%{text}<br>production_budget_usd=%{x}<br>worldwide_gross_usd=%{y}<extra></extra>\",\"legendgroup\":\"Avatar\",\"marker\":{\"color\":\"rgb(152,78,163)\",\"symbol\":\"circle\",\"line\":{\"color\":\"Black\",\"width\":2},\"size\":10},\"mode\":\"markers+text\",\"name\":\"Avatar\",\"orientation\":\"v\",\"showlegend\":true,\"text\":[\"Avatar\"],\"x\":[237000000.0],\"xaxis\":\"x\",\"y\":[2923706026.0],\"yaxis\":\"y\",\"type\":\"scatter\",\"textposition\":\"bottom center\"},{\"hovertemplate\":\"movie_title=%{text}<br>production_budget_usd=%{x}<br>worldwide_gross_usd=%{y}<extra></extra>\",\"legendgroup\":\"Superman Returns\",\"marker\":{\"color\":\"rgb(255,127,0)\",\"symbol\":\"circle\",\"line\":{\"color\":\"Black\",\"width\":2},\"size\":10},\"mode\":\"markers+text\",\"name\":\"Superman Returns\",\"orientation\":\"v\",\"showlegend\":true,\"text\":[\"Superman Returns\"],\"x\":[232000000.0],\"xaxis\":\"x\",\"y\":[391081192.0],\"yaxis\":\"y\",\"type\":\"scatter\",\"textposition\":\"bottom center\"},{\"hovertemplate\":\"movie_title=%{text}<br>production_budget_usd=%{x}<br>worldwide_gross_usd=%{y}<extra></extra>\",\"legendgroup\":\"The Dark Knight Rises\",\"marker\":{\"color\":\"rgb(255,255,51)\",\"symbol\":\"circle\",\"line\":{\"color\":\"Black\",\"width\":2},\"size\":10},\"mode\":\"markers+text\",\"name\":\"The Dark Knight Rises\",\"orientation\":\"v\",\"showlegend\":true,\"text\":[\"The Dark Knight Rises\"],\"x\":[230000000.0],\"xaxis\":\"x\",\"y\":[1082228107.0],\"yaxis\":\"y\",\"type\":\"scatter\",\"textposition\":\"bottom center\"},{\"hovertemplate\":\"movie_title=%{text}<br>production_budget_usd=%{x}<br>worldwide_gross_usd=%{y}<extra></extra>\",\"legendgroup\":\"Pirates of the Caribbean: Dead Men Tell No Tales\",\"marker\":{\"color\":\"rgb(166,86,40)\",\"symbol\":\"circle\",\"line\":{\"color\":\"Black\",\"width\":2},\"size\":10},\"mode\":\"markers+text\",\"name\":\"Pirates of the Caribbean: Dead Men Tell No Tales\",\"orientation\":\"v\",\"showlegend\":true,\"text\":[\"Pirates of the Caribbean: Dead Men Tell No Tales\"],\"x\":[230000000.0],\"xaxis\":\"x\",\"y\":[794861794.0],\"yaxis\":\"y\",\"type\":\"scatter\",\"textposition\":\"bottom center\"},{\"hovertemplate\":\"movie_title=%{text}<br>production_budget_usd=%{x}<br>worldwide_gross_usd=%{y}<extra></extra>\",\"legendgroup\":\"Quantum of Solace\",\"marker\":{\"color\":\"rgb(247,129,191)\",\"symbol\":\"circle\",\"line\":{\"color\":\"Black\",\"width\":2},\"size\":10},\"mode\":\"markers+text\",\"name\":\"Quantum of Solace\",\"orientation\":\"v\",\"showlegend\":true,\"text\":[\"Quantum of Solace\"],\"x\":[230000000.0],\"xaxis\":\"x\",\"y\":[591692078.0],\"yaxis\":\"y\",\"type\":\"scatter\",\"textposition\":\"bottom center\"},{\"hovertemplate\":\"movie_title=%{text}<br>production_budget_usd=%{x}<br>worldwide_gross_usd=%{y}<extra></extra>\",\"legendgroup\":\"The Avengers\",\"marker\":{\"color\":\"rgb(153,153,153)\",\"symbol\":\"circle\",\"line\":{\"color\":\"Black\",\"width\":2},\"size\":10},\"mode\":\"markers+text\",\"name\":\"The Avengers\",\"orientation\":\"v\",\"showlegend\":true,\"text\":[\"The Avengers\"],\"x\":[225000000.0],\"xaxis\":\"x\",\"y\":[1515100211.0],\"yaxis\":\"y\",\"type\":\"scatter\",\"textposition\":\"bottom center\"},{\"hovertemplate\":\"movie_title=%{text}<br>production_budget_usd=%{x}<br>worldwide_gross_usd=%{y}<extra></extra>\",\"legendgroup\":\"Pirates of the Caribbean: Dead Man\\u2019s Chest\",\"marker\":{\"color\":\"rgb(228,26,28)\",\"symbol\":\"circle\",\"line\":{\"color\":\"Black\",\"width\":2},\"size\":10},\"mode\":\"markers+text\",\"name\":\"Pirates of the Caribbean: Dead Man\\u2019s Chest\",\"orientation\":\"v\",\"showlegend\":true,\"text\":[\"Pirates of the Caribbean: Dead Man\\u2019s Chest\"],\"x\":[225000000.0],\"xaxis\":\"x\",\"y\":[1066179725.0],\"yaxis\":\"y\",\"type\":\"scatter\",\"textposition\":\"bottom center\"},{\"hovertemplate\":\"movie_title=%{text}<br>production_budget_usd=%{x}<br>worldwide_gross_usd=%{y}<extra></extra>\",\"legendgroup\":\"Man of Steel\",\"marker\":{\"color\":\"rgb(55,126,184)\",\"symbol\":\"circle\",\"line\":{\"color\":\"Black\",\"width\":2},\"size\":10},\"mode\":\"markers+text\",\"name\":\"Man of Steel\",\"orientation\":\"v\",\"showlegend\":true,\"text\":[\"Man of Steel\"],\"x\":[225000000.0],\"xaxis\":\"x\",\"y\":[667999518.0],\"yaxis\":\"y\",\"type\":\"scatter\",\"textposition\":\"bottom center\"},{\"hovertemplate\":\"movie_title=%{text}<br>production_budget_usd=%{x}<br>worldwide_gross_usd=%{y}<extra></extra>\",\"legendgroup\":\"The Chronicles of Narnia: Prince Caspian\",\"marker\":{\"color\":\"rgb(77,175,74)\",\"symbol\":\"circle\",\"line\":{\"color\":\"Black\",\"width\":2},\"size\":10},\"mode\":\"markers+text\",\"name\":\"The Chronicles of Narnia: Prince Caspian\",\"orientation\":\"v\",\"showlegend\":true,\"text\":[\"The Chronicles of Narnia: Prince Caspian\"],\"x\":[225000000.0],\"xaxis\":\"x\",\"y\":[417341288.0],\"yaxis\":\"y\",\"type\":\"scatter\",\"textposition\":\"bottom center\"},{\"hovertemplate\":\"movie_title=%{text}<br>production_budget_usd=%{x}<br>worldwide_gross_usd=%{y}<extra></extra>\",\"legendgroup\":\"The Lone Ranger\",\"marker\":{\"color\":\"rgb(152,78,163)\",\"symbol\":\"circle\",\"line\":{\"color\":\"Black\",\"width\":2},\"size\":10},\"mode\":\"markers+text\",\"name\":\"The Lone Ranger\",\"orientation\":\"v\",\"showlegend\":true,\"text\":[\"The Lone Ranger\"],\"x\":[225000000.0],\"xaxis\":\"x\",\"y\":[260002115.0],\"yaxis\":\"y\",\"type\":\"scatter\",\"textposition\":\"bottom center\"},{\"hovertemplate\":\"movie_title=%{text}<br>production_budget_usd=%{x}<br>worldwide_gross_usd=%{y}<extra></extra>\",\"legendgroup\":\"The Amazing Spider-Man\",\"marker\":{\"color\":\"rgb(255,127,0)\",\"symbol\":\"circle\",\"line\":{\"color\":\"Black\",\"width\":2},\"size\":10},\"mode\":\"markers+text\",\"name\":\"The Amazing Spider-Man\",\"orientation\":\"v\",\"showlegend\":true,\"text\":[\"The Amazing Spider-Man\"],\"x\":[220000000.0],\"xaxis\":\"x\",\"y\":[757890267.0],\"yaxis\":\"y\",\"type\":\"scatter\",\"textposition\":\"bottom center\"},{\"hovertemplate\":\"movie_title=%{text}<br>production_budget_usd=%{x}<br>worldwide_gross_usd=%{y}<extra></extra>\",\"legendgroup\":\"Battleship\",\"marker\":{\"color\":\"rgb(255,255,51)\",\"symbol\":\"circle\",\"line\":{\"color\":\"Black\",\"width\":2},\"size\":10},\"mode\":\"markers+text\",\"name\":\"Battleship\",\"orientation\":\"v\",\"showlegend\":true,\"text\":[\"Battleship\"],\"x\":[220000000.0],\"xaxis\":\"x\",\"y\":[313477717.0],\"yaxis\":\"y\",\"type\":\"scatter\",\"textposition\":\"bottom center\"},{\"hovertemplate\":\"movie_title=%{text}<br>production_budget_usd=%{x}<br>worldwide_gross_usd=%{y}<extra></extra>\",\"legendgroup\":\"Transformers: The Last Knight\",\"marker\":{\"color\":\"rgb(166,86,40)\",\"symbol\":\"circle\",\"line\":{\"color\":\"Black\",\"width\":2},\"size\":10},\"mode\":\"markers+text\",\"name\":\"Transformers: The Last Knight\",\"orientation\":\"v\",\"showlegend\":true,\"text\":[\"Transformers: The Last Knight\"],\"x\":[217000000.0],\"xaxis\":\"x\",\"y\":[602893340.0],\"yaxis\":\"y\",\"type\":\"scatter\",\"textposition\":\"bottom center\"},{\"hovertemplate\":\"movie_title=%{text}<br>production_budget_usd=%{x}<br>worldwide_gross_usd=%{y}<extra></extra>\",\"legendgroup\":\"Jurassic World\",\"marker\":{\"color\":\"rgb(247,129,191)\",\"symbol\":\"circle\",\"line\":{\"color\":\"Black\",\"width\":2},\"size\":10},\"mode\":\"markers+text\",\"name\":\"Jurassic World\",\"orientation\":\"v\",\"showlegend\":true,\"text\":[\"Jurassic World\"],\"x\":[215000000.0],\"xaxis\":\"x\",\"y\":[1669963641.0],\"yaxis\":\"y\",\"type\":\"scatter\",\"textposition\":\"bottom center\"},{\"hovertemplate\":\"movie_title=%{text}<br>production_budget_usd=%{x}<br>worldwide_gross_usd=%{y}<extra></extra>\",\"legendgroup\":\"Men in Black 3\",\"marker\":{\"color\":\"rgb(153,153,153)\",\"symbol\":\"circle\",\"line\":{\"color\":\"Black\",\"width\":2},\"size\":10},\"mode\":\"markers+text\",\"name\":\"Men in Black 3\",\"orientation\":\"v\",\"showlegend\":true,\"text\":[\"Men in Black 3\"],\"x\":[215000000.0],\"xaxis\":\"x\",\"y\":[654213485.0],\"yaxis\":\"y\",\"type\":\"scatter\",\"textposition\":\"bottom center\"},{\"hovertemplate\":\"movie_title=%{text}<br>production_budget_usd=%{x}<br>worldwide_gross_usd=%{y}<extra></extra>\",\"legendgroup\":\"Transformers: Revenge of the Fallen\",\"marker\":{\"color\":\"rgb(228,26,28)\",\"symbol\":\"circle\",\"line\":{\"color\":\"Black\",\"width\":2},\"size\":10},\"mode\":\"markers+text\",\"name\":\"Transformers: Revenge of the Fallen\",\"orientation\":\"v\",\"showlegend\":true,\"text\":[\"Transformers: Revenge of the Fallen\"],\"x\":[210000000.0],\"xaxis\":\"x\",\"y\":[836519699.0],\"yaxis\":\"y\",\"type\":\"scatter\",\"textposition\":\"bottom center\"},{\"hovertemplate\":\"movie_title=%{text}<br>production_budget_usd=%{x}<br>worldwide_gross_usd=%{y}<extra></extra>\",\"legendgroup\":\"Transformers: Age of Extinction\",\"marker\":{\"color\":\"rgb(55,126,184)\",\"symbol\":\"circle\",\"line\":{\"color\":\"Black\",\"width\":2},\"size\":10},\"mode\":\"markers+text\",\"name\":\"Transformers: Age of Extinction\",\"orientation\":\"v\",\"showlegend\":true,\"text\":[\"Transformers: Age of Extinction\"],\"x\":[210000000.0],\"xaxis\":\"x\",\"y\":[1104054072.0],\"yaxis\":\"y\",\"type\":\"scatter\",\"textposition\":\"bottom center\"},{\"hovertemplate\":\"movie_title=%{text}<br>production_budget_usd=%{x}<br>worldwide_gross_usd=%{y}<extra></extra>\",\"legendgroup\":\"X-Men: The Last Stand\",\"marker\":{\"color\":\"rgb(77,175,74)\",\"symbol\":\"circle\",\"line\":{\"color\":\"Black\",\"width\":2},\"size\":10},\"mode\":\"markers+text\",\"name\":\"X-Men: The Last Stand\",\"orientation\":\"v\",\"showlegend\":true,\"text\":[\"X-Men: The Last Stand\"],\"x\":[210000000.0],\"xaxis\":\"x\",\"y\":[459260946.0],\"yaxis\":\"y\",\"type\":\"scatter\",\"textposition\":\"bottom center\"},{\"hovertemplate\":\"movie_title=%{text}<br>production_budget_usd=%{x}<br>worldwide_gross_usd=%{y}<extra></extra>\",\"legendgroup\":\"Robin Hood\",\"marker\":{\"color\":\"rgb(152,78,163)\",\"symbol\":\"circle\",\"line\":{\"color\":\"Black\",\"width\":2},\"size\":10},\"mode\":\"markers+text\",\"name\":\"Robin Hood\",\"orientation\":\"v\",\"showlegend\":true,\"text\":[\"Robin Hood\"],\"x\":[210000000.0],\"xaxis\":\"x\",\"y\":[322459006.0],\"yaxis\":\"y\",\"type\":\"scatter\",\"textposition\":\"bottom center\"},{\"hovertemplate\":\"movie_title=%{text}<br>production_budget_usd=%{x}<br>worldwide_gross_usd=%{y}<extra></extra>\",\"legendgroup\":\"King Kong\",\"marker\":{\"color\":\"rgb(255,127,0)\",\"symbol\":\"circle\",\"line\":{\"color\":\"Black\",\"width\":2},\"size\":10},\"mode\":\"markers+text\",\"name\":\"King Kong\",\"orientation\":\"v\",\"showlegend\":true,\"text\":[\"King Kong\"],\"x\":[207000000.0],\"xaxis\":\"x\",\"y\":[550517357.0],\"yaxis\":\"y\",\"type\":\"scatter\",\"textposition\":\"bottom center\"}],                        {\"template\":{\"data\":{\"bar\":[{\"error_x\":{\"color\":\"#2a3f5f\"},\"error_y\":{\"color\":\"#2a3f5f\"},\"marker\":{\"line\":{\"color\":\"#E5ECF6\",\"width\":0.5},\"pattern\":{\"fillmode\":\"overlay\",\"size\":10,\"solidity\":0.2}},\"type\":\"bar\"}],\"barpolar\":[{\"marker\":{\"line\":{\"color\":\"#E5ECF6\",\"width\":0.5},\"pattern\":{\"fillmode\":\"overlay\",\"size\":10,\"solidity\":0.2}},\"type\":\"barpolar\"}],\"carpet\":[{\"aaxis\":{\"endlinecolor\":\"#2a3f5f\",\"gridcolor\":\"white\",\"linecolor\":\"white\",\"minorgridcolor\":\"white\",\"startlinecolor\":\"#2a3f5f\"},\"baxis\":{\"endlinecolor\":\"#2a3f5f\",\"gridcolor\":\"white\",\"linecolor\":\"white\",\"minorgridcolor\":\"white\",\"startlinecolor\":\"#2a3f5f\"},\"type\":\"carpet\"}],\"choropleth\":[{\"colorbar\":{\"outlinewidth\":0,\"ticks\":\"\"},\"type\":\"choropleth\"}],\"contour\":[{\"colorbar\":{\"outlinewidth\":0,\"ticks\":\"\"},\"colorscale\":[[0.0,\"#0d0887\"],[0.1111111111111111,\"#46039f\"],[0.2222222222222222,\"#7201a8\"],[0.3333333333333333,\"#9c179e\"],[0.4444444444444444,\"#bd3786\"],[0.5555555555555556,\"#d8576b\"],[0.6666666666666666,\"#ed7953\"],[0.7777777777777778,\"#fb9f3a\"],[0.8888888888888888,\"#fdca26\"],[1.0,\"#f0f921\"]],\"type\":\"contour\"}],\"contourcarpet\":[{\"colorbar\":{\"outlinewidth\":0,\"ticks\":\"\"},\"type\":\"contourcarpet\"}],\"heatmap\":[{\"colorbar\":{\"outlinewidth\":0,\"ticks\":\"\"},\"colorscale\":[[0.0,\"#0d0887\"],[0.1111111111111111,\"#46039f\"],[0.2222222222222222,\"#7201a8\"],[0.3333333333333333,\"#9c179e\"],[0.4444444444444444,\"#bd3786\"],[0.5555555555555556,\"#d8576b\"],[0.6666666666666666,\"#ed7953\"],[0.7777777777777778,\"#fb9f3a\"],[0.8888888888888888,\"#fdca26\"],[1.0,\"#f0f921\"]],\"type\":\"heatmap\"}],\"heatmapgl\":[{\"colorbar\":{\"outlinewidth\":0,\"ticks\":\"\"},\"colorscale\":[[0.0,\"#0d0887\"],[0.1111111111111111,\"#46039f\"],[0.2222222222222222,\"#7201a8\"],[0.3333333333333333,\"#9c179e\"],[0.4444444444444444,\"#bd3786\"],[0.5555555555555556,\"#d8576b\"],[0.6666666666666666,\"#ed7953\"],[0.7777777777777778,\"#fb9f3a\"],[0.8888888888888888,\"#fdca26\"],[1.0,\"#f0f921\"]],\"type\":\"heatmapgl\"}],\"histogram\":[{\"marker\":{\"pattern\":{\"fillmode\":\"overlay\",\"size\":10,\"solidity\":0.2}},\"type\":\"histogram\"}],\"histogram2d\":[{\"colorbar\":{\"outlinewidth\":0,\"ticks\":\"\"},\"colorscale\":[[0.0,\"#0d0887\"],[0.1111111111111111,\"#46039f\"],[0.2222222222222222,\"#7201a8\"],[0.3333333333333333,\"#9c179e\"],[0.4444444444444444,\"#bd3786\"],[0.5555555555555556,\"#d8576b\"],[0.6666666666666666,\"#ed7953\"],[0.7777777777777778,\"#fb9f3a\"],[0.8888888888888888,\"#fdca26\"],[1.0,\"#f0f921\"]],\"type\":\"histogram2d\"}],\"histogram2dcontour\":[{\"colorbar\":{\"outlinewidth\":0,\"ticks\":\"\"},\"colorscale\":[[0.0,\"#0d0887\"],[0.1111111111111111,\"#46039f\"],[0.2222222222222222,\"#7201a8\"],[0.3333333333333333,\"#9c179e\"],[0.4444444444444444,\"#bd3786\"],[0.5555555555555556,\"#d8576b\"],[0.6666666666666666,\"#ed7953\"],[0.7777777777777778,\"#fb9f3a\"],[0.8888888888888888,\"#fdca26\"],[1.0,\"#f0f921\"]],\"type\":\"histogram2dcontour\"}],\"mesh3d\":[{\"colorbar\":{\"outlinewidth\":0,\"ticks\":\"\"},\"type\":\"mesh3d\"}],\"parcoords\":[{\"line\":{\"colorbar\":{\"outlinewidth\":0,\"ticks\":\"\"}},\"type\":\"parcoords\"}],\"pie\":[{\"automargin\":true,\"type\":\"pie\"}],\"scatter\":[{\"marker\":{\"colorbar\":{\"outlinewidth\":0,\"ticks\":\"\"}},\"type\":\"scatter\"}],\"scatter3d\":[{\"line\":{\"colorbar\":{\"outlinewidth\":0,\"ticks\":\"\"}},\"marker\":{\"colorbar\":{\"outlinewidth\":0,\"ticks\":\"\"}},\"type\":\"scatter3d\"}],\"scattercarpet\":[{\"marker\":{\"colorbar\":{\"outlinewidth\":0,\"ticks\":\"\"}},\"type\":\"scattercarpet\"}],\"scattergeo\":[{\"marker\":{\"colorbar\":{\"outlinewidth\":0,\"ticks\":\"\"}},\"type\":\"scattergeo\"}],\"scattergl\":[{\"marker\":{\"colorbar\":{\"outlinewidth\":0,\"ticks\":\"\"}},\"type\":\"scattergl\"}],\"scattermapbox\":[{\"marker\":{\"colorbar\":{\"outlinewidth\":0,\"ticks\":\"\"}},\"type\":\"scattermapbox\"}],\"scatterpolar\":[{\"marker\":{\"colorbar\":{\"outlinewidth\":0,\"ticks\":\"\"}},\"type\":\"scatterpolar\"}],\"scatterpolargl\":[{\"marker\":{\"colorbar\":{\"outlinewidth\":0,\"ticks\":\"\"}},\"type\":\"scatterpolargl\"}],\"scatterternary\":[{\"marker\":{\"colorbar\":{\"outlinewidth\":0,\"ticks\":\"\"}},\"type\":\"scatterternary\"}],\"surface\":[{\"colorbar\":{\"outlinewidth\":0,\"ticks\":\"\"},\"colorscale\":[[0.0,\"#0d0887\"],[0.1111111111111111,\"#46039f\"],[0.2222222222222222,\"#7201a8\"],[0.3333333333333333,\"#9c179e\"],[0.4444444444444444,\"#bd3786\"],[0.5555555555555556,\"#d8576b\"],[0.6666666666666666,\"#ed7953\"],[0.7777777777777778,\"#fb9f3a\"],[0.8888888888888888,\"#fdca26\"],[1.0,\"#f0f921\"]],\"type\":\"surface\"}],\"table\":[{\"cells\":{\"fill\":{\"color\":\"#EBF0F8\"},\"line\":{\"color\":\"white\"}},\"header\":{\"fill\":{\"color\":\"#C8D4E3\"},\"line\":{\"color\":\"white\"}},\"type\":\"table\"}]},\"layout\":{\"annotationdefaults\":{\"arrowcolor\":\"#2a3f5f\",\"arrowhead\":0,\"arrowwidth\":1},\"autotypenumbers\":\"strict\",\"coloraxis\":{\"colorbar\":{\"outlinewidth\":0,\"ticks\":\"\"}},\"colorscale\":{\"diverging\":[[0,\"#8e0152\"],[0.1,\"#c51b7d\"],[0.2,\"#de77ae\"],[0.3,\"#f1b6da\"],[0.4,\"#fde0ef\"],[0.5,\"#f7f7f7\"],[0.6,\"#e6f5d0\"],[0.7,\"#b8e186\"],[0.8,\"#7fbc41\"],[0.9,\"#4d9221\"],[1,\"#276419\"]],\"sequential\":[[0.0,\"#0d0887\"],[0.1111111111111111,\"#46039f\"],[0.2222222222222222,\"#7201a8\"],[0.3333333333333333,\"#9c179e\"],[0.4444444444444444,\"#bd3786\"],[0.5555555555555556,\"#d8576b\"],[0.6666666666666666,\"#ed7953\"],[0.7777777777777778,\"#fb9f3a\"],[0.8888888888888888,\"#fdca26\"],[1.0,\"#f0f921\"]],\"sequentialminus\":[[0.0,\"#0d0887\"],[0.1111111111111111,\"#46039f\"],[0.2222222222222222,\"#7201a8\"],[0.3333333333333333,\"#9c179e\"],[0.4444444444444444,\"#bd3786\"],[0.5555555555555556,\"#d8576b\"],[0.6666666666666666,\"#ed7953\"],[0.7777777777777778,\"#fb9f3a\"],[0.8888888888888888,\"#fdca26\"],[1.0,\"#f0f921\"]]},\"colorway\":[\"#636efa\",\"#EF553B\",\"#00cc96\",\"#ab63fa\",\"#FFA15A\",\"#19d3f3\",\"#FF6692\",\"#B6E880\",\"#FF97FF\",\"#FECB52\"],\"font\":{\"color\":\"#2a3f5f\"},\"geo\":{\"bgcolor\":\"white\",\"lakecolor\":\"white\",\"landcolor\":\"#E5ECF6\",\"showlakes\":true,\"showland\":true,\"subunitcolor\":\"white\"},\"hoverlabel\":{\"align\":\"left\"},\"hovermode\":\"closest\",\"mapbox\":{\"style\":\"light\"},\"paper_bgcolor\":\"white\",\"plot_bgcolor\":\"#E5ECF6\",\"polar\":{\"angularaxis\":{\"gridcolor\":\"white\",\"linecolor\":\"white\",\"ticks\":\"\"},\"bgcolor\":\"#E5ECF6\",\"radialaxis\":{\"gridcolor\":\"white\",\"linecolor\":\"white\",\"ticks\":\"\"}},\"scene\":{\"xaxis\":{\"backgroundcolor\":\"#E5ECF6\",\"gridcolor\":\"white\",\"gridwidth\":2,\"linecolor\":\"white\",\"showbackground\":true,\"ticks\":\"\",\"zerolinecolor\":\"white\"},\"yaxis\":{\"backgroundcolor\":\"#E5ECF6\",\"gridcolor\":\"white\",\"gridwidth\":2,\"linecolor\":\"white\",\"showbackground\":true,\"ticks\":\"\",\"zerolinecolor\":\"white\"},\"zaxis\":{\"backgroundcolor\":\"#E5ECF6\",\"gridcolor\":\"white\",\"gridwidth\":2,\"linecolor\":\"white\",\"showbackground\":true,\"ticks\":\"\",\"zerolinecolor\":\"white\"}},\"shapedefaults\":{\"line\":{\"color\":\"#2a3f5f\"}},\"ternary\":{\"aaxis\":{\"gridcolor\":\"white\",\"linecolor\":\"white\",\"ticks\":\"\"},\"baxis\":{\"gridcolor\":\"white\",\"linecolor\":\"white\",\"ticks\":\"\"},\"bgcolor\":\"#E5ECF6\",\"caxis\":{\"gridcolor\":\"white\",\"linecolor\":\"white\",\"ticks\":\"\"}},\"title\":{\"x\":0.05},\"xaxis\":{\"automargin\":true,\"gridcolor\":\"white\",\"linecolor\":\"white\",\"ticks\":\"\",\"title\":{\"standoff\":15},\"zerolinecolor\":\"white\",\"zerolinewidth\":2},\"yaxis\":{\"automargin\":true,\"gridcolor\":\"white\",\"linecolor\":\"white\",\"ticks\":\"\",\"title\":{\"standoff\":15},\"zerolinecolor\":\"white\",\"zerolinewidth\":2}}},\"xaxis\":{\"anchor\":\"y\",\"domain\":[0.0,1.0],\"title\":{\"text\":\"Production Budget (in USD)\"},\"range\":[0,300000000]},\"yaxis\":{\"anchor\":\"x\",\"domain\":[0.0,1.0],\"title\":{\"text\":\"Worldwide Gross (in USD)\"},\"range\":[0,3000000000]},\"legend\":{\"title\":{\"text\":\"Movie Titles\"},\"tracegroupgap\":0},\"margin\":{\"t\":60},\"title\":{\"text\":\"Top 100 Movies by Worldwide Gross vs. Production Budget\"},\"showlegend\":true,\"autosize\":false,\"width\":1000,\"height\":800,\"font\":{\"family\":\"Arial\",\"size\":10}},                        {\"responsive\": true}                    ).then(function(){\n",
       "                            \n",
       "var gd = document.getElementById('94dcaca9-3021-49e0-81d5-9d8a656e48ab');\n",
       "var x = new MutationObserver(function (mutations, observer) {{\n",
       "        var display = window.getComputedStyle(gd).display;\n",
       "        if (!display || display === 'none') {{\n",
       "            console.log([gd, 'removed!']);\n",
       "            Plotly.purge(gd);\n",
       "            observer.disconnect();\n",
       "        }}\n",
       "}});\n",
       "\n",
       "// Listen for the removal of the full notebook cells\n",
       "var notebookContainer = gd.closest('#notebook-container');\n",
       "if (notebookContainer) {{\n",
       "    x.observe(notebookContainer, {childList: true});\n",
       "}}\n",
       "\n",
       "// Listen for the clearing of the current output cell\n",
       "var outputEl = gd.closest('.output');\n",
       "if (outputEl) {{\n",
       "    x.observe(outputEl, {childList: true});\n",
       "}}\n",
       "\n",
       "                        })                };                });            </script>        </div>"
      ]
     },
     "metadata": {},
     "output_type": "display_data"
    }
   ],
   "source": [
    "\n",
    "unique_colors = px.colors.qualitative.Set1[:len(df_subset['movie_title'].unique())]\n",
    "\n",
    "df_subset = df.head(50)\n",
    "\n",
    "fig = px.scatter(df_subset, x='production_budget_usd', y='worldwide_gross_usd', text='movie_title', color='movie_title',\n",
    "                 color_discrete_sequence=unique_colors, size_max=100)\n",
    "\n",
    "fig.update_layout(\n",
    "    title='Top 100 Movies by Worldwide Gross vs. Production Budget',\n",
    "    xaxis_title='Production Budget (in USD)',\n",
    "    yaxis_title='Worldwide Gross (in USD)',\n",
    "    showlegend=True,\n",
    "    legend_title='Movie Titles',\n",
    "    autosize=False,\n",
    "    width=1000,  \n",
    "    height=800,  \n",
    "    xaxis_range=[0, 300000000],  \n",
    "    yaxis_range=[0, 3000000000],  \n",
    ")\n",
    "\n",
    "fig.update_traces(marker=dict(size=10, line=dict(width=2, color='Black')),\n",
    "                  selector=dict(mode='markers+text'))\n",
    "\n",
    "fig.update_traces(textposition='bottom center')\n",
    "fig.update_layout(font=dict(family=\"Arial\", size=10))\n",
    "fig.show()\n",
    "\n",
    "\n"
   ]
  },
  {
   "cell_type": "code",
   "execution_count": 136,
   "id": "0141c98e",
   "metadata": {
    "scrolled": true
   },
   "outputs": [
    {
     "data": {
      "image/png": "[encoded data removed]",
      "text/plain": [
       "<Figure size 864x360 with 2 Axes>"
      ]
     },
     "metadata": {},
     "output_type": "display_data"
    }
   ],
   "source": [
    "fig, axes = plt.subplots(nrows=1, ncols=2, figsize=(12, 5))\n",
    "\n",
    "axes[0].scatter(df['production_budget_usd'], df['domestic_gross_usd'], c='blue', label='Domestic Revenue',alpha=0.3)\n",
    "axes[0].set_title('Film Cost vs Domestic Revenue')\n",
    "axes[0].set_xlabel('X-axis')\n",
    "axes[0].set_ylabel('Y-axis')\n",
    "axes[0].set_ylim(0, 3000000000)\n",
    "axes[0].set_xlim(0, 450000000)\n",
    "axes[0].legend()\n",
    "\n",
    "axes[1].scatter(df['production_budget_usd'], df['worldwide_gross_usd'], c='red', label='Worldwide Revenue',alpha=0.3)\n",
    "axes[1].set_title('Film Cost vs Worldwide Revenue')\n",
    "axes[1].set_xlabel('X-axis')\n",
    "axes[1].set_ylabel('Y-axis')\n",
    "axes[1].set_ylim(0, 3000000000)\n",
    "axes[1].set_xlim(0, 450000000)\n",
    "axes[1].legend()\n",
    "\n",
    "plt.tight_layout()\n",
    "\n",
    "plt.show()"
   ]
  },
  {
   "cell_type": "code",
   "execution_count": 117,
   "id": "7619aba3",
   "metadata": {},
   "outputs": [
    {
     "data": {
      "text/plain": [
       "LinearRegression()"
      ]
     },
     "execution_count": 117,
     "metadata": {},
     "output_type": "execute_result"
    }
   ],
   "source": [
    "x = df['production_budget_usd']\n",
    "y = df['worldwide_gross_usd']\n",
    "\n",
    "X = production_budget.values.reshape(-1, 1)\n",
    "\n",
    "regression = LinearRegression()\n",
    "regression.fit(X, y)"
   ]
  },
  {
   "cell_type": "markdown",
   "id": "7e1db8c2",
   "metadata": {},
   "source": [
    "Slope Coefficent:"
   ]
  },
  {
   "cell_type": "code",
   "execution_count": 118,
   "id": "28a4ef2e",
   "metadata": {
    "scrolled": false
   },
   "outputs": [
    {
     "data": {
      "text/plain": [
       "array([3.16552324])"
      ]
     },
     "execution_count": 118,
     "metadata": {},
     "output_type": "execute_result"
    }
   ],
   "source": [
    "regression.coef_"
   ]
  },
  {
   "cell_type": "markdown",
   "id": "111bae5c",
   "metadata": {},
   "source": [
    "There is a positive relationship between the budget and the revenue of the movies produced. Statistically speaking, for each dollar spent in the the production budget of the movie, there are three dollars worth of revenue earned."
   ]
  },
  {
   "cell_type": "markdown",
   "id": "07ea9e50",
   "metadata": {},
   "source": [
    "Intercept Coefficent:"
   ]
  },
  {
   "cell_type": "code",
   "execution_count": 119,
   "id": "099525a6",
   "metadata": {},
   "outputs": [
    {
     "data": {
      "text/plain": [
       "-8304233.831049278"
      ]
     },
     "execution_count": 119,
     "metadata": {},
     "output_type": "execute_result"
    }
   ],
   "source": [
    "regression.intercept_"
   ]
  },
  {
   "cell_type": "code",
   "execution_count": 120,
   "id": "15ce2761",
   "metadata": {
    "scrolled": false
   },
   "outputs": [
    {
     "data": {
      "image/png": "[encoded data removed]",
      "text/plain": [
       "<Figure size 720x432 with 1 Axes>"
      ]
     },
     "metadata": {},
     "output_type": "display_data"
    }
   ],
   "source": [
    "plt.figure(figsize=(10,6))\n",
    "plt.scatter(X, y, alpha=0.3)\n",
    "plt.plot(X, regression.predict(X), color='red', linewidth=2)\n",
    "\n",
    "plt.title('Film Cost vs Global Revenue')\n",
    "plt.xlabel('Production Budget $')\n",
    "plt.ylabel('Worldwide Gross $')\n",
    "plt.ylim(0, 3000000000)\n",
    "plt.xlim(0, 450000000)\n",
    "plt.show()"
   ]
  },
  {
   "cell_type": "code",
   "execution_count": 121,
   "id": "32473ef3",
   "metadata": {},
   "outputs": [
    {
     "data": {
      "text/plain": [
       "0.5429659045963755"
      ]
     },
     "execution_count": 121,
     "metadata": {},
     "output_type": "execute_result"
    }
   ],
   "source": [
    "regression.score(X,y)"
   ]
  },
  {
   "cell_type": "markdown",
   "id": "aae36ef1",
   "metadata": {},
   "source": [
    "Questions:\n",
    "\n",
    "1: How would our model do if we added more features (runtime, production time, sequel etc)?\n",
    "\n",
    "2:What if the data is non-linear? "
   ]
  },
  {
   "cell_type": "code",
   "execution_count": null,
   "id": "61989642",
   "metadata": {
    "scrolled": false
   },
   "outputs": [],
   "source": []
  },
  {
   "cell_type": "code",
   "execution_count": null,
   "id": "821c5af3",
   "metadata": {},
   "outputs": [],
   "source": []
  }
 ],
 "metadata": {
  "kernelspec": {
   "display_name": "Python 3 (ipykernel)",
   "language": "python",
   "name": "python3"
  },
  "language_info": {
   "codemirror_mode": {
    "name": "ipython",
    "version": 3
   },
   "file_extension": ".py",
   "mimetype": "text/x-python",
   "name": "python",
   "nbconvert_exporter": "python",
   "pygments_lexer": "ipython3",
   "version": "3.9.7"
  }
 },
 "nbformat": 4,
 "nbformat_minor": 5
}
